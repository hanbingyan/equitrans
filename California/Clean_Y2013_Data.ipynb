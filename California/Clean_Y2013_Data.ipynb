{
 "cells": [
  {
   "cell_type": "code",
   "execution_count": 1,
   "id": "d4b47f0b",
   "metadata": {},
   "outputs": [],
   "source": [
    "import matplotlib.pyplot as plt\n",
    "import pandas as pd\n",
    "import numpy as np\n",
    "from sklearn.linear_model import LinearRegression, HuberRegressor\n",
    "import pickle\n",
    "import itertools\n",
    "import time\n",
    "import ot\n",
    "import os\n",
    "from scipy.stats import rankdata\n",
    "import seaborn as sns\n",
    "from datetime import datetime\n",
    "from scipy.signal import savgol_filter\n",
    "from scipy.ndimage import gaussian_filter1d"
   ]
  },
  {
   "cell_type": "code",
   "execution_count": 2,
   "id": "b9a0a496",
   "metadata": {},
   "outputs": [],
   "source": [
    "df = pd.read_csv('./UniversityOfCalifornia/2013_UniversityOfCalifornia.csv')"
   ]
  },
  {
   "cell_type": "code",
   "execution_count": null,
   "id": "25d8946a",
   "metadata": {},
   "outputs": [],
   "source": [
    "df['Position'].unique()"
   ]
  },
  {
   "cell_type": "code",
   "execution_count": null,
   "id": "b71550f7",
   "metadata": {},
   "outputs": [],
   "source": [
    "UCB = df[(df['EmployerName'] == 'University of California, Berkeley') & (df['Position'] == 'Postdoc-Employee')]['TotalWages'].values"
   ]
  },
  {
   "cell_type": "code",
   "execution_count": null,
   "id": "575b05b0",
   "metadata": {},
   "outputs": [],
   "source": [
    "UCLA = df[(df['EmployerName'] == 'University of California, Los Angeles') & (df['Position'] == 'Postdoc-Employee')]['TotalWages'].values"
   ]
  },
  {
   "cell_type": "code",
   "execution_count": null,
   "id": "3e157f2f",
   "metadata": {},
   "outputs": [],
   "source": [
    "bins = np.linspace(0, 200000, 100)\n",
    "plt.hist(UCLA, bins, alpha=0.5, label='UCLA')\n",
    "plt.hist(UCB, bins, alpha=0.5, label='UCB')\n",
    "plt.legend(loc='best')\n",
    "plt.show()"
   ]
  },
  {
   "cell_type": "code",
   "execution_count": null,
   "id": "80f70076",
   "metadata": {},
   "outputs": [],
   "source": [
    "np.median(UCB), np.median(UCLA)"
   ]
  },
  {
   "cell_type": "code",
   "execution_count": 10,
   "id": "6387ffdd",
   "metadata": {},
   "outputs": [],
   "source": [
    "positions = df['Position'].unique()"
   ]
  },
  {
   "cell_type": "code",
   "execution_count": null,
   "id": "0ce194c4",
   "metadata": {},
   "outputs": [],
   "source": [
    "positions"
   ]
  },
  {
   "cell_type": "code",
   "execution_count": null,
   "id": "c7f1f311",
   "metadata": {},
   "outputs": [],
   "source": [
    "for title in positions:\n",
    "    if 'Instr-Grad' in title:\n",
    "        print(title)"
   ]
  },
  {
   "cell_type": "code",
   "execution_count": 11,
   "id": "68659e27",
   "metadata": {},
   "outputs": [
    {
     "name": "stdout",
     "output_type": "stream",
     "text": [
      "Child Dev Ctr Teacher 1\n",
      "Teacher-Lhs-Continuing\n",
      "Teacher-Spec Prog\n",
      "Teacher-Spec Prog-Continuing\n",
      "Teacher-Unex\n",
      "Teacher-Unex-Contract Yr\n",
      "Teachg Asst-Gship\n",
      "Teachg Asst-Non GSHIP\n",
      "Supv Teacher Ed-Ay\n",
      "Supv Teacher Ed-Ay-Continuing\n",
      "Teacher Asst-GSHIP\n",
      "Teacher Asst-Non GSHIP\n",
      "Asst Teacher-Unex\n",
      "Child Dev Ctr Teacher 2\n",
      "Child Dev Ctr Teacher 2 Supv\n",
      "Demo Teacher\n",
      "Demo Teacher-Continuing\n",
      "Substitute Teacher\n",
      "Teachg Fellow-GSHIP\n",
      "Teaching Clin Dental Ast Supv\n",
      "Teachg Assistant-Non GSHIP\n",
      "Teachg Fellow-Non GSHIP\n",
      "Child Dev Ctr Teacher 1 Supv\n",
      "Child Life Teacher 1\n",
      "Child Life Teacher 1 Pd\n",
      "Child Life Teacher 2\n",
      "Child Life Teacher Supv\n",
      "Teachg Asst-GSHIP/Non Rep\n",
      "Teachg Asst-Non GSHIP/Non Rep\n",
      "Assistant Teacher-Unex\n",
      "Supervisor Teacher Ed-Ay\n",
      "Teaching Assistant-Non GSHIP\n",
      "Teaching Asst-GSHIP\n",
      "Teaching Fellow-GSHIP\n"
     ]
    }
   ],
   "source": [
    "prof = []\n",
    "for title in positions:\n",
    "    if 'Teach' in title:\n",
    "        print(title)\n",
    "        prof.append(title)"
   ]
  },
  {
   "cell_type": "markdown",
   "id": "02a9f09a",
   "metadata": {},
   "source": [
    "# 2013 Dataset has different job title abbreviation. We unify them with other dataset as follows"
   ]
  },
  {
   "cell_type": "code",
   "execution_count": null,
   "id": "b7a4b9b7",
   "metadata": {},
   "outputs": [],
   "source": [
    "'Assistant Prof-Ay-B/E/E', 'Associate Prof-Ay-B/E/E', 'Teaching Assistant-GSHIP'"
   ]
  },
  {
   "cell_type": "code",
   "execution_count": null,
   "id": "1ac5aaaf",
   "metadata": {},
   "outputs": [],
   "source": [
    "'Assoc Prof-Ay-B/E/E', 'Asst Prof-Ay-B/E/E', 'Postdoc-Employee', 'Teachg Asst-Gship'"
   ]
  },
  {
   "cell_type": "code",
   "execution_count": 4,
   "id": "bd57c558",
   "metadata": {},
   "outputs": [],
   "source": [
    "n_rows = df.shape[0]"
   ]
  },
  {
   "cell_type": "code",
   "execution_count": 5,
   "id": "bf329b27",
   "metadata": {},
   "outputs": [],
   "source": [
    "for idx in range(n_rows):\n",
    "    if df.loc[idx, 'Position'] == 'Assistant Prof-Ay-B/E/E':\n",
    "        df.loc[idx, 'Position'] = 'Asst Prof-Ay-B/E/E'\n",
    "        print('Done')"
   ]
  },
  {
   "cell_type": "code",
   "execution_count": 6,
   "id": "5b8fda17",
   "metadata": {},
   "outputs": [],
   "source": [
    "for idx in range(n_rows):\n",
    "    if df.loc[idx, 'Position'] == 'Associate Prof-Ay-B/E/E':\n",
    "        df.loc[idx, 'Position'] = 'Assoc Prof-Ay-B/E/E'"
   ]
  },
  {
   "cell_type": "code",
   "execution_count": 7,
   "id": "3267bc06",
   "metadata": {},
   "outputs": [],
   "source": [
    "for idx in range(n_rows):\n",
    "    if df.loc[idx, 'Position'] == 'Teaching Assistant-GSHIP' or df.loc[idx, 'Position'] == 'Teachg Asst-GSHIP':\n",
    "        df.loc[idx, 'Position'] = 'Teachg Asst-Gship'"
   ]
  },
  {
   "cell_type": "code",
   "execution_count": 8,
   "id": "3827cfa5",
   "metadata": {},
   "outputs": [],
   "source": [
    "df.to_csv('2013_UniversityOfCalifornia.csv', index=False)"
   ]
  },
  {
   "cell_type": "markdown",
   "id": "87d4f6be",
   "metadata": {},
   "source": [
    "# Title selection"
   ]
  },
  {
   "cell_type": "code",
   "execution_count": null,
   "id": "f5e54932",
   "metadata": {},
   "outputs": [],
   "source": [
    "prof = ['Prof-Ay-B/E/E']\n",
    "\n",
    "# prof = ['Prof-Ay-1/9', 'Prof-Ay-1/9-B/E/E', 'Prof-Hcomp', 'Prof Of Clin-Fy', 'Prof Of Clin-Hcomp', \n",
    "#         'Prof-Ay', 'Prof-Ay-B/E/E', 'Prof-Ay-Law', 'Prof-Fy', 'Prof-Fy-B/E/E']\n",
    "\n",
    "\n",
    "# Special\n",
    "# prof = ['Act Prof-Ay', 'Prof-Ay-1/9', 'Prof-Ay-1/9-B/E/E', 'Prof In Res-Ay-1/9', 'Adj Prof-Ay-1/9', 'Adj Prof-Ay-1/9-B/E/E', \n",
    "#         'VIS Prof', 'Prof In Res-Fy', 'Prof In Res-Hcomp', 'Prof In Res-Sft-Vm', 'Prof Of Clin-Sft-Vm', 'Prof-Hcomp',\n",
    "#         'Prof-Sft-Vm', 'Vis Prof', 'Adj Prof-Hcomp', 'Adj Prof-Sft-Vm', 'Prof Emeritus(Wos)', 'Prof In Res-Ay', \n",
    "#         'Prof In Res-Ay-B/E/E', 'Prof Of Clin-Fy', 'Prof Of Clin-Hcomp', 'Prof-Ay', 'Prof-Ay-B/E/E', 'Prof-Ay-Law', 'Prof-Fy',\n",
    "#         'Prof-Fy-B/E/E', 'Adj Prof-Ay', 'Adj Prof-Ay-1/10-Bee', 'Adj Prof-Ay-B/E/E', 'Adj Prof-Fy', 'Adj Prof-Fy-B/E/E',\n",
    "#         'Act Prof-Ay-Law']"
   ]
  },
  {
   "cell_type": "code",
   "execution_count": null,
   "id": "1226fb8a",
   "metadata": {},
   "outputs": [],
   "source": [
    "asst_prof = ['Asst Prof-Ay-B/E/E']\n",
    "\n",
    "# asst_prof = ['Asst Prof-Ay', 'Asst Prof-Ay-B/E/E', 'Asst Prof-Fy',\n",
    "#              'Asst Prof Of Clin-Hcomp', 'Asst Prof-Ay-1/9', 'Asst Prof-Hcomp', \n",
    "#              'Asst Prof Of Clin-Fy']\n",
    "\n",
    "# asst_prof = ['Asst Prof In Res-Ay', 'Asst Prof In Res-Ay-B/E/E', 'Asst Prof-Ay', 'Asst Prof-Ay-B/E/E', 'Asst Prof-Fy',\n",
    "#              'Vis Asst Prof', 'Act Asst Prof-Ay', 'Asst Prof In Res-Fy-B/E/E', 'Asst Prof In Res-Hcomp',\n",
    "#              'Asst Prof Of Clin-Hcomp', 'Asst Prof Of Clin-Sft-Vm', 'Asst Prof-Ay-1/9', 'Asst Prof-Hcomp', \n",
    "#              'Asst Prof-Sft-Vm', 'VIS Asst Prof', 'VIS Asst Prof-HComp', 'Asst Prof Of Clin-Fy', 'Asst Prof In Res-Fy',\n",
    "#              'Vis Asst Prof-Hcomp', 'Act Asst Prof-Ay-B/E/E']"
   ]
  },
  {
   "cell_type": "code",
   "execution_count": null,
   "id": "523f4348",
   "metadata": {},
   "outputs": [],
   "source": [
    "assoc_prof = ['Assoc Prof-Ay-B/E/E']\n",
    "\n",
    "# assoc_prof = ['Assoc Prof Of Clin-Hcomp', 'Assoc Prof-Ay', 'Assoc Prof-Ay-B/E/E', 'Assoc Prof-Fy',\n",
    "#               'Assoc Prof-Fy-B/E/E', 'Assoc Prof-Hcomp', 'Assoc Prof Of Clin-Fy']\n",
    "\n",
    "# assoc_prof = ['Assoc Prof In Res-Ay', 'Assoc Prof Of Clin-Hcomp', 'Assoc Prof-Ay', 'Assoc Prof-Ay-B/E/E', 'Assoc Prof-Fy',\n",
    "#               'Vis Assoc Prof', 'Act Assoc Prof-Ay', 'Assoc Prof In Res-Fy', 'Assoc Prof In Res-Hcomp', \n",
    "#               'Assoc Prof In Res-Sft-Vm', 'Assoc Prof Of Clin-Sft-Vm', 'Assoc Prof-Fy-B/E/E', 'Assoc Prof-Hcomp',\n",
    "#               'Assoc Prof-Sft-Vm', 'VIS Assoc Prof', 'VIS Assoc Prof-HComp', 'Act Assoc Prof-Ay-B/E/E', \n",
    "#               'Assoc Prof Of Clin-Fy', 'Assoc Prof In Res-Ay-B/E/E']"
   ]
  },
  {
   "cell_type": "code",
   "execution_count": null,
   "id": "321a634a",
   "metadata": {},
   "outputs": [],
   "source": [
    "graduates = ['Gsr-Full Fee Rem', 'Gsr-No Rem', 'Gsr-Partial Fee Rem', 'Gsr-Tuit & Fee Rem', \n",
    "             'Gsr-Full Tuit&Partial Fee Rem', 'Teachg Asst-Gship']\n",
    "\n",
    "# graduates = ['Gsr-Full Fee Rem', 'Gsr-No Rem', 'Gsr-Partial Fee Rem', 'Gsr-Tuit & Fee Rem', \n",
    "#              'Gsr-Full Tuit&Partial Fee Rem', 'Gsr-Tuit & Fee Rem-UCSD-Grp B', 'Gsr-Tuit & Fee Rem-UCSD-Grp C',\n",
    "#              'Gsr-Tuit & Fee Rem-UCSD-Grp D', 'Gsr-Tuit & Fee Rem-UCSD-Grp E', 'Gsr-Tuit & Fee Rem-UCSD-Grp F',\n",
    "#              'Gsr-Tuit & Fee Rem-UCSD-Grp G']\n",
    "\n",
    "# graduates = ['Gsr-Full Fee Rem', 'Gsr-No Rem', 'Gsr-Partial Fee Rem', 'Gsr-Tuit & Fee Rem', \n",
    "#              'Gsr-Full Tuit&Partial Fee Rem', 'Gsr-Tuit & Fee Rem-UCSD-Grp B', 'Gsr-Tuit & Fee Rem-UCSD-Grp C',\n",
    "#              'Gsr-Tuit & Fee Rem-UCSD-Grp D', 'Gsr-Tuit & Fee Rem-UCSD-Grp E', 'Gsr-Tuit & Fee Rem-UCSD-Grp F',\n",
    "#              'Gsr-Tuit & Fee Rem-UCSD-Grp G', 'Teachg Asst-1/10-Gship',\n",
    "#              'Teachg Asst-1/10-Non Gship', 'Teachg Asst-Gship', 'Teachg Asst-Non Gship',\n",
    "#              'Teachg Asst-Gship/Non Rep', 'Teachg Asst-Non Gship/Non Rep']"
   ]
  },
  {
   "cell_type": "code",
   "execution_count": null,
   "id": "ed311653",
   "metadata": {},
   "outputs": [],
   "source": [
    "postdoc = ['Postdoc-Employee']\n",
    "# postdoc = ['Intrm Postdoc Scholar-Employee', 'Postdoc-Employee', 'Postdoc-Employee Nex', 'Postdoc-Fellow',\n",
    "#            'Postdoc-Paid Direct']\n",
    "# Oth Post-Md Train 2-8/Non Rep\n",
    "# Pgy1 Post Pharmd Trainee\n",
    "# Pgy2 Spec Post Pharmd Trainee\n",
    "# Oth Post Dds/Non Rep\n",
    "# Oth Post Dds/Rep\n",
    "# Post Dds I-Vi/Non Rep\n",
    "# Post Dds I-Vi/Rep\n",
    "# Oth Post-Md Train 2-8/Rep\n",
    "# Stipend-Oth Post-Md Train"
   ]
  },
  {
   "cell_type": "code",
   "execution_count": null,
   "id": "7a4f0e78",
   "metadata": {},
   "outputs": [],
   "source": []
  },
  {
   "cell_type": "code",
   "execution_count": null,
   "id": "79ad5e5f",
   "metadata": {},
   "outputs": [],
   "source": [
    "head_count = df.groupby(['Position'])['TotalWages'].count().reset_index()"
   ]
  },
  {
   "cell_type": "code",
   "execution_count": null,
   "id": "3a5fc64e",
   "metadata": {},
   "outputs": [],
   "source": [
    "head_count.sort_values(by=['TotalWages'], ascending=False).head(10)"
   ]
  },
  {
   "cell_type": "code",
   "execution_count": null,
   "id": "745bb2ed",
   "metadata": {},
   "outputs": [],
   "source": [
    "head_count[head_count['Position'].isin(prof + assoc_prof + asst_prof + postdoc + graduates)]"
   ]
  },
  {
   "cell_type": "code",
   "execution_count": null,
   "id": "2e41acf8",
   "metadata": {},
   "outputs": [],
   "source": [
    "PROF = df[df['Position'].isin(prof)]\n",
    "PROF_salary = PROF.groupby(['EmployerName'])['TotalWages'].max().reset_index()\n",
    "PROF_salary.sort_values(by=['TotalWages'])"
   ]
  },
  {
   "cell_type": "code",
   "execution_count": null,
   "id": "fb7b41cc",
   "metadata": {},
   "outputs": [],
   "source": [
    "df[(df['Position'].isin(prof)) & (df['EmployerName'] == 'University of California, San Francisco')][['Position']]"
   ]
  },
  {
   "cell_type": "code",
   "execution_count": null,
   "id": "2f1d2fcc",
   "metadata": {},
   "outputs": [],
   "source": [
    "ASOC_PROF = df[df['Position'].isin(assoc_prof)]\n",
    "ASOC_PROF_salary = ASOC_PROF.groupby(['EmployerName'])['TotalWages'].median().reset_index()\n",
    "ASOC_PROF_salary.sort_values(by=['TotalWages'])"
   ]
  },
  {
   "cell_type": "code",
   "execution_count": null,
   "id": "9b1e9858",
   "metadata": {
    "scrolled": true
   },
   "outputs": [],
   "source": [
    "AP = df[df['Position'].isin(asst_prof)]\n",
    "AP_salary = AP.groupby(['EmployerName'])['TotalWages'].median().reset_index()\n",
    "AP_salary.sort_values(by=['TotalWages'])"
   ]
  },
  {
   "cell_type": "code",
   "execution_count": null,
   "id": "b5176192",
   "metadata": {},
   "outputs": [],
   "source": [
    "POST = df[df['Position'].isin(postdoc)] # Postdoc-Fellow\n",
    "POST_salary = POST.groupby(['EmployerName'])['TotalWages'].median().reset_index()\n",
    "POST_salary.sort_values(by=['TotalWages'])"
   ]
  },
  {
   "cell_type": "code",
   "execution_count": null,
   "id": "1232f86d",
   "metadata": {},
   "outputs": [],
   "source": [
    "POST = df[df['Position'] == 'Teachg Asst-Gship']\n",
    "POST_salary = POST.groupby(['EmployerName'])['TotalWages'].median().reset_index()\n",
    "POST_salary.sort_values(by=['TotalWages'])"
   ]
  },
  {
   "cell_type": "code",
   "execution_count": null,
   "id": "5b9d4b27",
   "metadata": {},
   "outputs": [],
   "source": [
    "POST[['Year', 'EmployerName', 'Position', 'TotalWages']]"
   ]
  },
  {
   "cell_type": "code",
   "execution_count": null,
   "id": "ba604ebf",
   "metadata": {},
   "outputs": [],
   "source": [
    "POST[['TotalWages']].min()"
   ]
  },
  {
   "cell_type": "code",
   "execution_count": null,
   "id": "b8381421",
   "metadata": {},
   "outputs": [],
   "source": [
    "plt.hist(POST[POST['EmployerName'] == 'University of California, Berkeley']['TotalWages'])"
   ]
  },
  {
   "cell_type": "code",
   "execution_count": null,
   "id": "2a40051f",
   "metadata": {},
   "outputs": [],
   "source": [
    "POST.groupby(['EmployerName'])['TotalWages'].count()"
   ]
  },
  {
   "cell_type": "code",
   "execution_count": null,
   "id": "ea9f427d",
   "metadata": {},
   "outputs": [],
   "source": [
    "GRAD = df[df['Position'].isin(graduates)]\n",
    "GRAD_salary = GRAD.groupby(['EmployerName'])['TotalWages'].mean().reset_index()\n",
    "GRAD_salary.sort_values(by=['TotalWages'])"
   ]
  },
  {
   "cell_type": "code",
   "execution_count": null,
   "id": "c1d9fab5",
   "metadata": {},
   "outputs": [],
   "source": [
    "GRAD.groupby(['EmployerName'])['TotalWages'].count()"
   ]
  }
 ],
 "metadata": {
  "kernelspec": {
   "display_name": "Python 3 (ipykernel)",
   "language": "python",
   "name": "python3"
  },
  "language_info": {
   "codemirror_mode": {
    "name": "ipython",
    "version": 3
   },
   "file_extension": ".py",
   "mimetype": "text/x-python",
   "name": "python",
   "nbconvert_exporter": "python",
   "pygments_lexer": "ipython3",
   "version": "3.9.12"
  }
 },
 "nbformat": 4,
 "nbformat_minor": 5
}
