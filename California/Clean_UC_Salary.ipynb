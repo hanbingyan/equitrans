{
 "cells": [
  {
   "cell_type": "code",
   "execution_count": 1,
   "id": "c9fa5dff",
   "metadata": {},
   "outputs": [],
   "source": [
    "import matplotlib.pyplot as plt\n",
    "import pandas as pd\n",
    "import numpy as np\n",
    "from sklearn.linear_model import LinearRegression, HuberRegressor\n",
    "import pickle\n",
    "import itertools\n",
    "import time\n",
    "import ot\n",
    "import os\n",
    "from scipy.stats import rankdata\n",
    "from jenks import getJenksBreaks, classify, getGVF\n",
    "import seaborn as sns\n",
    "from datetime import datetime\n",
    "from scipy.signal import savgol_filter\n",
    "from scipy.ndimage import gaussian_filter1d"
   ]
  },
  {
   "cell_type": "code",
   "execution_count": 2,
   "id": "ce9bc694",
   "metadata": {},
   "outputs": [],
   "source": [
    "n_group = 5"
   ]
  },
  {
   "cell_type": "code",
   "execution_count": 3,
   "id": "79824b3f",
   "metadata": {},
   "outputs": [],
   "source": [
    "prof = ['Prof-Ay-B/E/E', 'Assoc Prof-Ay-B/E/E', 'Asst Prof-Ay-B/E/E', 'Postdoc-Employee', 'Teachg Asst-Gship']"
   ]
  },
  {
   "cell_type": "code",
   "execution_count": 4,
   "id": "492f4aae",
   "metadata": {},
   "outputs": [],
   "source": [
    "uni_excluded = ['University of California, San Francisco', 'University of California, Office of the President']"
   ]
  },
  {
   "cell_type": "code",
   "execution_count": 5,
   "id": "90b5ee5a",
   "metadata": {},
   "outputs": [
    {
     "name": "stdout",
     "output_type": "stream",
     "text": [
      "Prof-Ay-B/E/E\n",
      "Assoc Prof-Ay-B/E/E\n",
      "Asst Prof-Ay-B/E/E\n",
      "Postdoc-Employee\n",
      "Teachg Asst-Gship\n"
     ]
    }
   ],
   "source": [
    "sum_df = pd.DataFrame()\n",
    "for position in prof:\n",
    "    print(position)\n",
    "    for year in np.arange(2013, 2022, 1):\n",
    "        path = './UniversityOfCalifornia/{}_UniversityOfCalifornia.csv'.format(year)\n",
    "        with open(path, encoding=\"utf8\", errors='ignore') as f:\n",
    "            df = pd.read_csv(f)\n",
    "        df = df[~df['EmployerName'].isin(uni_excluded)]\n",
    "        PROF = df[(df['Position'] == position)]\n",
    "        PROF = PROF[['Year', 'EmployerName', 'Position', 'TotalWages']]\n",
    "        PROF.loc[:, 'WageRank'] = rankdata(-PROF['TotalWages'].values, method='ordinal') - 1\n",
    "        sum_df = pd.concat([PROF, sum_df]) "
   ]
  },
  {
   "cell_type": "code",
   "execution_count": null,
   "id": "09b0da8e",
   "metadata": {},
   "outputs": [],
   "source": [
    "year"
   ]
  },
  {
   "cell_type": "code",
   "execution_count": 6,
   "id": "ffa7cf06",
   "metadata": {},
   "outputs": [],
   "source": [
    "grouped_df = pd.DataFrame()\n",
    "for position in prof:\n",
    "    for year in np.arange(2013, 2022, 1):\n",
    "        df = sum_df[(sum_df['Year'] == year) & (sum_df['Position'] == position)]\n",
    "        df = df.groupby(['EmployerName'])['WageRank'].median().reset_index()\n",
    "        df.loc[:, 'Year'] = year\n",
    "        df.loc[:, 'Position'] = position\n",
    "        grouped_df = pd.concat([df, grouped_df])\n",
    "grouped_df = grouped_df.reset_index(drop=True)"
   ]
  },
  {
   "cell_type": "code",
   "execution_count": 7,
   "id": "d4f560ba",
   "metadata": {},
   "outputs": [],
   "source": [
    "median_df = pd.DataFrame()\n",
    "for position in prof:\n",
    "    for year in np.arange(2013, 2022, 1):\n",
    "        df = sum_df[(sum_df['Year'] == year) & (sum_df['Position'] == position)]\n",
    "        df = df.groupby(['EmployerName'])['TotalWages'].median().reset_index()\n",
    "        df.loc[:, 'Year'] = year\n",
    "        df.loc[:, 'Position'] = position\n",
    "        median_df = pd.concat([df, median_df])\n",
    "median_df = median_df.reset_index(drop=True)"
   ]
  },
  {
   "cell_type": "code",
   "execution_count": 8,
   "id": "3e59ef16",
   "metadata": {},
   "outputs": [],
   "source": [
    "median_df.to_csv('median.csv', index=False)"
   ]
  },
  {
   "cell_type": "code",
   "execution_count": 9,
   "id": "fc55c215",
   "metadata": {},
   "outputs": [],
   "source": [
    "usnews = pd.read_csv('./UniversityOfCalifornia/USNews_Ranking.csv')"
   ]
  },
  {
   "cell_type": "code",
   "execution_count": 10,
   "id": "e95cc2ab",
   "metadata": {},
   "outputs": [],
   "source": [
    "for year in np.arange(2012, 2024, 1):\n",
    "#     usnews.loc[:, 'c_' + str(year)] = usnews[str(year)].values\n",
    "    usnews.loc[:, 'c_' + str(year)] = rankdata(usnews[str(year)].values, method='ordinal') - 1"
   ]
  },
  {
   "cell_type": "code",
   "execution_count": 11,
   "id": "98e50d02",
   "metadata": {},
   "outputs": [],
   "source": [
    "university = grouped_df['EmployerName'].unique()\n",
    "n_obs = grouped_df.shape[0]\n",
    "for idx in range(n_obs):\n",
    "    uni = grouped_df.iloc[idx]['EmployerName']\n",
    "    year = grouped_df.iloc[idx]['Year']\n",
    "#     grouped_df.loc[idx, 'uni_group_5'] = usnews[usnews['University Name'] == uni]['c_' + str(year)].values//2\n",
    "    grouped_df.loc[idx, 'uni_rank'] = usnews[usnews['University Name'] == uni]['c_' + str(year)].values"
   ]
  },
  {
   "cell_type": "code",
   "execution_count": 12,
   "id": "ea29f5c9",
   "metadata": {},
   "outputs": [],
   "source": [
    "for position in prof:\n",
    "    for year in np.arange(2013, 2022, 1):\n",
    "        sliced_idx = (grouped_df['Year'] == year) & (grouped_df['Position'] == position)\n",
    "        data = grouped_df[sliced_idx]['WageRank'].values\n",
    "        wage_list = list(rankdata(-data, method='ordinal') - 1)\n",
    "        wage_breaks = getJenksBreaks(wage_list, n_group)\n",
    "        n_obs = data.shape[0]\n",
    "        wage_group = np.zeros(n_obs)\n",
    "        for fidx in range(n_obs):\n",
    "            wage_group[fidx] = classify(wage_list[fidx], wage_breaks)\n",
    "        grouped_df.loc[sliced_idx, 'wage_group'] = n_group - wage_group\n",
    "#         grouped_df.loc[sliced_idx, 'wage_group_5'] = (rankdata(data, method='ordinal') - 1)//2\n",
    "#         grouped_df.loc[sliced_idx, 'wage_group_9'] = rankdata(data, method='ordinal') - 1"
   ]
  },
  {
   "cell_type": "code",
   "execution_count": 13,
   "id": "f9f3f375",
   "metadata": {},
   "outputs": [],
   "source": [
    "for position in prof:\n",
    "    for year in np.arange(2013, 2022, 1):\n",
    "        sliced_idx = (grouped_df['Year'] == year) & (grouped_df['Position'] == position)\n",
    "        data = grouped_df[sliced_idx]['uni_rank'].values\n",
    "        uni_list = list(rankdata(-data, method='ordinal') - 1)\n",
    "        uni_breaks = getJenksBreaks(uni_list, n_group)\n",
    "        n_obs = data.shape[0]\n",
    "        uni_group = np.zeros(n_obs)\n",
    "        for fidx in range(n_obs):\n",
    "            uni_group[fidx] = classify(uni_list[fidx], uni_breaks)\n",
    "        grouped_df.loc[sliced_idx, 'uni_group'] = n_group - uni_group"
   ]
  },
  {
   "cell_type": "code",
   "execution_count": 14,
   "id": "ccf71039",
   "metadata": {},
   "outputs": [
    {
     "data": {
      "text/html": [
       "<div>\n",
       "<style scoped>\n",
       "    .dataframe tbody tr th:only-of-type {\n",
       "        vertical-align: middle;\n",
       "    }\n",
       "\n",
       "    .dataframe tbody tr th {\n",
       "        vertical-align: top;\n",
       "    }\n",
       "\n",
       "    .dataframe thead th {\n",
       "        text-align: right;\n",
       "    }\n",
       "</style>\n",
       "<table border=\"1\" class=\"dataframe\">\n",
       "  <thead>\n",
       "    <tr style=\"text-align: right;\">\n",
       "      <th></th>\n",
       "      <th>EmployerName</th>\n",
       "      <th>WageRank</th>\n",
       "      <th>Year</th>\n",
       "      <th>Position</th>\n",
       "      <th>uni_rank</th>\n",
       "      <th>wage_group</th>\n",
       "      <th>uni_group</th>\n",
       "    </tr>\n",
       "  </thead>\n",
       "  <tbody>\n",
       "    <tr>\n",
       "      <th>0</th>\n",
       "      <td>University of California, Berkeley</td>\n",
       "      <td>9054.0</td>\n",
       "      <td>2021</td>\n",
       "      <td>Teachg Asst-Gship</td>\n",
       "      <td>1.0</td>\n",
       "      <td>3.0</td>\n",
       "      <td>0.0</td>\n",
       "    </tr>\n",
       "    <tr>\n",
       "      <th>1</th>\n",
       "      <td>University of California, Davis</td>\n",
       "      <td>6111.0</td>\n",
       "      <td>2021</td>\n",
       "      <td>Teachg Asst-Gship</td>\n",
       "      <td>5.0</td>\n",
       "      <td>2.0</td>\n",
       "      <td>2.0</td>\n",
       "    </tr>\n",
       "    <tr>\n",
       "      <th>2</th>\n",
       "      <td>University of California, Irvine</td>\n",
       "      <td>6129.0</td>\n",
       "      <td>2021</td>\n",
       "      <td>Teachg Asst-Gship</td>\n",
       "      <td>4.0</td>\n",
       "      <td>2.0</td>\n",
       "      <td>2.0</td>\n",
       "    </tr>\n",
       "    <tr>\n",
       "      <th>3</th>\n",
       "      <td>University of California, Los Angeles</td>\n",
       "      <td>9669.0</td>\n",
       "      <td>2021</td>\n",
       "      <td>Teachg Asst-Gship</td>\n",
       "      <td>0.0</td>\n",
       "      <td>4.0</td>\n",
       "      <td>0.0</td>\n",
       "    </tr>\n",
       "    <tr>\n",
       "      <th>4</th>\n",
       "      <td>University of California, Merced</td>\n",
       "      <td>4389.5</td>\n",
       "      <td>2021</td>\n",
       "      <td>Teachg Asst-Gship</td>\n",
       "      <td>8.0</td>\n",
       "      <td>0.0</td>\n",
       "      <td>4.0</td>\n",
       "    </tr>\n",
       "    <tr>\n",
       "      <th>...</th>\n",
       "      <td>...</td>\n",
       "      <td>...</td>\n",
       "      <td>...</td>\n",
       "      <td>...</td>\n",
       "      <td>...</td>\n",
       "      <td>...</td>\n",
       "      <td>...</td>\n",
       "    </tr>\n",
       "    <tr>\n",
       "      <th>398</th>\n",
       "      <td>University of California, Merced</td>\n",
       "      <td>636.0</td>\n",
       "      <td>2013</td>\n",
       "      <td>Prof-Ay-B/E/E</td>\n",
       "      <td>7.0</td>\n",
       "      <td>2.0</td>\n",
       "      <td>3.0</td>\n",
       "    </tr>\n",
       "    <tr>\n",
       "      <th>399</th>\n",
       "      <td>University of California, Riverside</td>\n",
       "      <td>717.0</td>\n",
       "      <td>2013</td>\n",
       "      <td>Prof-Ay-B/E/E</td>\n",
       "      <td>8.0</td>\n",
       "      <td>3.0</td>\n",
       "      <td>4.0</td>\n",
       "    </tr>\n",
       "    <tr>\n",
       "      <th>400</th>\n",
       "      <td>University of California, San Diego</td>\n",
       "      <td>555.0</td>\n",
       "      <td>2013</td>\n",
       "      <td>Prof-Ay-B/E/E</td>\n",
       "      <td>2.0</td>\n",
       "      <td>1.0</td>\n",
       "      <td>1.0</td>\n",
       "    </tr>\n",
       "    <tr>\n",
       "      <th>401</th>\n",
       "      <td>University of California, Santa Barbara</td>\n",
       "      <td>500.0</td>\n",
       "      <td>2013</td>\n",
       "      <td>Prof-Ay-B/E/E</td>\n",
       "      <td>4.0</td>\n",
       "      <td>1.0</td>\n",
       "      <td>2.0</td>\n",
       "    </tr>\n",
       "    <tr>\n",
       "      <th>402</th>\n",
       "      <td>University of California, Santa Cruz</td>\n",
       "      <td>818.0</td>\n",
       "      <td>2013</td>\n",
       "      <td>Prof-Ay-B/E/E</td>\n",
       "      <td>6.0</td>\n",
       "      <td>4.0</td>\n",
       "      <td>3.0</td>\n",
       "    </tr>\n",
       "  </tbody>\n",
       "</table>\n",
       "<p>403 rows × 7 columns</p>\n",
       "</div>"
      ],
      "text/plain": [
       "                                EmployerName  WageRank  Year  \\\n",
       "0         University of California, Berkeley    9054.0  2021   \n",
       "1            University of California, Davis    6111.0  2021   \n",
       "2           University of California, Irvine    6129.0  2021   \n",
       "3      University of California, Los Angeles    9669.0  2021   \n",
       "4           University of California, Merced    4389.5  2021   \n",
       "..                                       ...       ...   ...   \n",
       "398         University of California, Merced     636.0  2013   \n",
       "399      University of California, Riverside     717.0  2013   \n",
       "400      University of California, San Diego     555.0  2013   \n",
       "401  University of California, Santa Barbara     500.0  2013   \n",
       "402     University of California, Santa Cruz     818.0  2013   \n",
       "\n",
       "              Position  uni_rank  wage_group  uni_group  \n",
       "0    Teachg Asst-Gship       1.0         3.0        0.0  \n",
       "1    Teachg Asst-Gship       5.0         2.0        2.0  \n",
       "2    Teachg Asst-Gship       4.0         2.0        2.0  \n",
       "3    Teachg Asst-Gship       0.0         4.0        0.0  \n",
       "4    Teachg Asst-Gship       8.0         0.0        4.0  \n",
       "..                 ...       ...         ...        ...  \n",
       "398      Prof-Ay-B/E/E       7.0         2.0        3.0  \n",
       "399      Prof-Ay-B/E/E       8.0         3.0        4.0  \n",
       "400      Prof-Ay-B/E/E       2.0         1.0        1.0  \n",
       "401      Prof-Ay-B/E/E       4.0         1.0        2.0  \n",
       "402      Prof-Ay-B/E/E       6.0         4.0        3.0  \n",
       "\n",
       "[403 rows x 7 columns]"
      ]
     },
     "execution_count": 14,
     "metadata": {},
     "output_type": "execute_result"
    }
   ],
   "source": [
    "grouped_df"
   ]
  },
  {
   "cell_type": "code",
   "execution_count": 15,
   "id": "fa13d9cb",
   "metadata": {},
   "outputs": [
    {
     "data": {
      "text/plain": [
       "(array([0., 1., 2., 3., 4.]), array([2, 2, 2, 2, 1], dtype=int64))"
      ]
     },
     "execution_count": 15,
     "metadata": {},
     "output_type": "execute_result"
    }
   ],
   "source": [
    "np.unique(grouped_df[(grouped_df['Position'] == prof[4]) & (grouped_df['Year'] == 2019)]['wage_group'].values, return_counts=True)"
   ]
  },
  {
   "cell_type": "code",
   "execution_count": null,
   "id": "186afb76",
   "metadata": {},
   "outputs": [],
   "source": []
  },
  {
   "cell_type": "code",
   "execution_count": null,
   "id": "44a96173",
   "metadata": {},
   "outputs": [],
   "source": []
  },
  {
   "cell_type": "code",
   "execution_count": null,
   "id": "2ded9529",
   "metadata": {},
   "outputs": [],
   "source": []
  },
  {
   "cell_type": "code",
   "execution_count": null,
   "id": "7b4da6f7",
   "metadata": {},
   "outputs": [],
   "source": []
  },
  {
   "cell_type": "code",
   "execution_count": 17,
   "id": "82908ab7",
   "metadata": {},
   "outputs": [],
   "source": [
    "grouped_df.to_csv('uc_salary.csv', index=False)"
   ]
  },
  {
   "cell_type": "code",
   "execution_count": null,
   "id": "d9d6e534",
   "metadata": {},
   "outputs": [],
   "source": [
    "# No missing data !!!\n",
    "universities = grouped_df['EmployerName'].unique()\n",
    "for uni in universities:\n",
    "    for year in np.arange(2013, 2022, 1):\n",
    "        sliced_idx = (grouped_df['Year'] == year) & (grouped_df['EmployerName'] == uni)\n",
    "        data = grouped_df[sliced_idx]['Position'].nunique()\n",
    "        if data != 5:\n",
    "            print(uni, year)\n",
    "            print(grouped_df[sliced_idx]['Position'].unique())"
   ]
  },
  {
   "cell_type": "code",
   "execution_count": null,
   "id": "630e2e30",
   "metadata": {},
   "outputs": [],
   "source": [
    "grouped_df"
   ]
  },
  {
   "cell_type": "code",
   "execution_count": null,
   "id": "97fb0edc",
   "metadata": {},
   "outputs": [],
   "source": []
  },
  {
   "cell_type": "code",
   "execution_count": null,
   "id": "2bcda9a9",
   "metadata": {},
   "outputs": [],
   "source": []
  }
 ],
 "metadata": {
  "kernelspec": {
   "display_name": "Python 3 (ipykernel)",
   "language": "python",
   "name": "python3"
  },
  "language_info": {
   "codemirror_mode": {
    "name": "ipython",
    "version": 3
   },
   "file_extension": ".py",
   "mimetype": "text/x-python",
   "name": "python",
   "nbconvert_exporter": "python",
   "pygments_lexer": "ipython3",
   "version": "3.9.12"
  }
 },
 "nbformat": 4,
 "nbformat_minor": 5
}
