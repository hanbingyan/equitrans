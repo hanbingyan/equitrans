{
 "cells": [
  {
   "cell_type": "code",
   "execution_count": 1,
   "id": "c9fa5dff",
   "metadata": {},
   "outputs": [],
   "source": [
    "import matplotlib.pyplot as plt\n",
    "import pandas as pd\n",
    "import numpy as np\n",
    "from sklearn.linear_model import LinearRegression, HuberRegressor\n",
    "import pickle\n",
    "import itertools\n",
    "import time\n",
    "import ot\n",
    "import os\n",
    "from scipy.stats import rankdata, spearmanr, kendalltau\n",
    "from jenks import getJenksBreaks, classify, getGVF\n",
    "import seaborn as sns\n",
    "from datetime import datetime"
   ]
  },
  {
   "cell_type": "code",
   "execution_count": 2,
   "id": "ce9bc694",
   "metadata": {},
   "outputs": [],
   "source": [
    "n_group = 5"
   ]
  },
  {
   "cell_type": "code",
   "execution_count": 3,
   "id": "79824b3f",
   "metadata": {},
   "outputs": [],
   "source": [
    "prof = ['Prof-Ay-B/E/E', 'Assoc Prof-Ay-B/E/E', 'Asst Prof-Ay-B/E/E', 'Postdoc-Employee']"
   ]
  },
  {
   "cell_type": "code",
   "execution_count": 4,
   "id": "492f4aae",
   "metadata": {},
   "outputs": [],
   "source": [
    "uni_excluded = ['University of California, San Francisco', 'University of California, Office of the President']"
   ]
  },
  {
   "cell_type": "code",
   "execution_count": 5,
   "id": "90b5ee5a",
   "metadata": {},
   "outputs": [
    {
     "name": "stdout",
     "output_type": "stream",
     "text": [
      "Prof-Ay-B/E/E\n",
      "Assoc Prof-Ay-B/E/E\n",
      "Asst Prof-Ay-B/E/E\n",
      "Postdoc-Employee\n"
     ]
    }
   ],
   "source": [
    "sum_df = pd.DataFrame()\n",
    "for position in prof:\n",
    "    print(position)\n",
    "    for year in np.arange(2017, 2022, 1):\n",
    "        path = 'D:/UniversityOfCalifornia/{}_UniversityOfCalifornia.csv'.format(year)\n",
    "        with open(path, encoding=\"utf8\", errors='ignore') as f:\n",
    "            df = pd.read_csv(f)\n",
    "        df = df[~df['EmployerName'].isin(uni_excluded)]\n",
    "        PROF = df[(df['Position'] == position)]\n",
    "        PROF = PROF[['Year', 'EmployerName', 'Position', 'TotalWages']]\n",
    "        PROF.loc[:, 'WageRank'] = rankdata(-PROF['TotalWages'].values, method='ordinal') - 1\n",
    "        sum_df = pd.concat([PROF, sum_df]) "
   ]
  },
  {
   "cell_type": "code",
   "execution_count": 6,
   "id": "09b0da8e",
   "metadata": {},
   "outputs": [
    {
     "data": {
      "text/html": [
       "<div>\n",
       "<style scoped>\n",
       "    .dataframe tbody tr th:only-of-type {\n",
       "        vertical-align: middle;\n",
       "    }\n",
       "\n",
       "    .dataframe tbody tr th {\n",
       "        vertical-align: top;\n",
       "    }\n",
       "\n",
       "    .dataframe thead th {\n",
       "        text-align: right;\n",
       "    }\n",
       "</style>\n",
       "<table border=\"1\" class=\"dataframe\">\n",
       "  <thead>\n",
       "    <tr style=\"text-align: right;\">\n",
       "      <th></th>\n",
       "      <th>Year</th>\n",
       "      <th>EmployerName</th>\n",
       "      <th>Position</th>\n",
       "      <th>TotalWages</th>\n",
       "      <th>WageRank</th>\n",
       "    </tr>\n",
       "  </thead>\n",
       "  <tbody>\n",
       "    <tr>\n",
       "      <th>13802</th>\n",
       "      <td>2021</td>\n",
       "      <td>University of California, Berkeley</td>\n",
       "      <td>Postdoc-Employee</td>\n",
       "      <td>64386</td>\n",
       "      <td>442</td>\n",
       "    </tr>\n",
       "    <tr>\n",
       "      <th>13803</th>\n",
       "      <td>2021</td>\n",
       "      <td>University of California, Berkeley</td>\n",
       "      <td>Postdoc-Employee</td>\n",
       "      <td>59371</td>\n",
       "      <td>1287</td>\n",
       "    </tr>\n",
       "    <tr>\n",
       "      <th>13804</th>\n",
       "      <td>2021</td>\n",
       "      <td>University of California, Berkeley</td>\n",
       "      <td>Postdoc-Employee</td>\n",
       "      <td>44732</td>\n",
       "      <td>3336</td>\n",
       "    </tr>\n",
       "    <tr>\n",
       "      <th>13805</th>\n",
       "      <td>2021</td>\n",
       "      <td>University of California, Berkeley</td>\n",
       "      <td>Postdoc-Employee</td>\n",
       "      <td>32173</td>\n",
       "      <td>4035</td>\n",
       "    </tr>\n",
       "    <tr>\n",
       "      <th>13806</th>\n",
       "      <td>2021</td>\n",
       "      <td>University of California, Berkeley</td>\n",
       "      <td>Postdoc-Employee</td>\n",
       "      <td>21342</td>\n",
       "      <td>4679</td>\n",
       "    </tr>\n",
       "  </tbody>\n",
       "</table>\n",
       "</div>"
      ],
      "text/plain": [
       "       Year                        EmployerName          Position  TotalWages  \\\n",
       "13802  2021  University of California, Berkeley  Postdoc-Employee       64386   \n",
       "13803  2021  University of California, Berkeley  Postdoc-Employee       59371   \n",
       "13804  2021  University of California, Berkeley  Postdoc-Employee       44732   \n",
       "13805  2021  University of California, Berkeley  Postdoc-Employee       32173   \n",
       "13806  2021  University of California, Berkeley  Postdoc-Employee       21342   \n",
       "\n",
       "       WageRank  \n",
       "13802       442  \n",
       "13803      1287  \n",
       "13804      3336  \n",
       "13805      4035  \n",
       "13806      4679  "
      ]
     },
     "execution_count": 6,
     "metadata": {},
     "output_type": "execute_result"
    }
   ],
   "source": [
    "sum_df.head()"
   ]
  },
  {
   "cell_type": "code",
   "execution_count": 7,
   "id": "0e528315",
   "metadata": {},
   "outputs": [],
   "source": [
    "df_5yr = sum_df[sum_df['Year'].isin([2017, 2018, 2019, 2020, 2021])]"
   ]
  },
  {
   "cell_type": "code",
   "execution_count": 10,
   "id": "97132321",
   "metadata": {},
   "outputs": [
    {
     "data": {
      "text/plain": [
       "Position             EmployerName                           \n",
       "Assoc Prof-Ay-B/E/E  University of California, Berkeley         582942\n",
       "                     University of California, Davis            313901\n",
       "                     University of California, Irvine           387084\n",
       "                     University of California, Los Angeles      494989\n",
       "                     University of California, Merced           230762\n",
       "                     University of California, Riverside        301166\n",
       "                     University of California, San Diego        436367\n",
       "                     University of California, Santa Barbara    430169\n",
       "                     University of California, Santa Cruz       235600\n",
       "Asst Prof-Ay-B/E/E   University of California, Berkeley         356679\n",
       "                     University of California, Davis            262833\n",
       "                     University of California, Irvine           331450\n",
       "                     University of California, Los Angeles      408104\n",
       "                     University of California, Merced           203730\n",
       "                     University of California, Riverside        266866\n",
       "                     University of California, San Diego        429625\n",
       "                     University of California, Santa Barbara    302019\n",
       "                     University of California, Santa Cruz       247281\n",
       "Postdoc-Employee     University of California, Berkeley         197419\n",
       "                     University of California, Davis            137724\n",
       "                     University of California, Irvine           102079\n",
       "                     University of California, Los Angeles      181982\n",
       "                     University of California, Merced           100772\n",
       "                     University of California, Riverside         87372\n",
       "                     University of California, San Diego        139683\n",
       "                     University of California, Santa Barbara    148142\n",
       "                     University of California, Santa Cruz        80133\n",
       "Prof-Ay-B/E/E        University of California, Berkeley         632257\n",
       "                     University of California, Davis            472937\n",
       "                     University of California, Irvine           609000\n",
       "                     University of California, Los Angeles      778102\n",
       "                     University of California, Merced           350160\n",
       "                     University of California, Riverside        412552\n",
       "                     University of California, San Diego        586884\n",
       "                     University of California, Santa Barbara    580967\n",
       "                     University of California, Santa Cruz       379110\n",
       "Name: TotalWages, dtype: int64"
      ]
     },
     "execution_count": 10,
     "metadata": {},
     "output_type": "execute_result"
    }
   ],
   "source": [
    "df_5yr.groupby(['Position', 'EmployerName'])['TotalWages'].max()"
   ]
  },
  {
   "cell_type": "code",
   "execution_count": null,
   "id": "57d1f211",
   "metadata": {},
   "outputs": [],
   "source": [
    "sum_df[sum_df['Year'] == 2021].groupby(['Position', 'EmployerName'])['TotalWages'].count()"
   ]
  },
  {
   "cell_type": "markdown",
   "id": "7316adbb",
   "metadata": {},
   "source": [
    "## Consider 5 years only"
   ]
  },
  {
   "cell_type": "code",
   "execution_count": 9,
   "id": "ffa7cf06",
   "metadata": {},
   "outputs": [],
   "source": [
    "grouped_df = pd.DataFrame()\n",
    "for position in prof:\n",
    "    for year in np.arange(2017, 2022, 1):\n",
    "        df = sum_df[(sum_df['Year'] == year) & (sum_df['Position'] == position)]\n",
    "        df = df.groupby(['EmployerName'])['WageRank'].median().reset_index()\n",
    "        df.loc[:, 'Year'] = year\n",
    "        df.loc[:, 'Position'] = position\n",
    "        grouped_df = pd.concat([df, grouped_df])\n",
    "grouped_df = grouped_df.reset_index(drop=True)"
   ]
  },
  {
   "cell_type": "code",
   "execution_count": 10,
   "id": "fc55c215",
   "metadata": {},
   "outputs": [],
   "source": [
    "usnews = pd.read_csv('D:/UniversityOfCalifornia/USNews_Ranking.csv')"
   ]
  },
  {
   "cell_type": "code",
   "execution_count": 11,
   "id": "e95cc2ab",
   "metadata": {},
   "outputs": [],
   "source": [
    "for year in np.arange(2012, 2024, 1):\n",
    "#     usnews.loc[:, 'c_' + str(year)] = usnews[str(year)].values\n",
    "    usnews.loc[:, 'c_' + str(year)] = rankdata(usnews[str(year)].values, method='ordinal') - 1"
   ]
  },
  {
   "cell_type": "code",
   "execution_count": 12,
   "id": "98e50d02",
   "metadata": {},
   "outputs": [],
   "source": [
    "university = grouped_df['EmployerName'].unique()\n",
    "n_obs = grouped_df.shape[0]\n",
    "for idx in range(n_obs):\n",
    "    uni = grouped_df.iloc[idx]['EmployerName']\n",
    "    year = grouped_df.iloc[idx]['Year']\n",
    "#     grouped_df.loc[idx, 'uni_group_5'] = usnews[usnews['University Name'] == uni]['c_' + str(year)].values//2\n",
    "    grouped_df.loc[idx, 'uni_rank'] = usnews[usnews['University Name'] == uni]['c_' + str(year)].values"
   ]
  },
  {
   "cell_type": "code",
   "execution_count": 49,
   "id": "1e2d12e8",
   "metadata": {},
   "outputs": [],
   "source": [
    "n_group = 4"
   ]
  },
  {
   "cell_type": "code",
   "execution_count": 50,
   "id": "ea29f5c9",
   "metadata": {},
   "outputs": [],
   "source": [
    "for position in prof:\n",
    "    for year in np.arange(2017, 2022, 1):\n",
    "        sliced_idx = (grouped_df['Year'] == year) & (grouped_df['Position'] == position)\n",
    "        data = grouped_df[sliced_idx]['WageRank'].values\n",
    "        wage_list = list(rankdata(-data, method='ordinal') - 1)\n",
    "        wage_breaks = getJenksBreaks(wage_list, n_group)\n",
    "        n_obs = data.shape[0]\n",
    "        wage_group = np.zeros(n_obs)\n",
    "        for fidx in range(n_obs):\n",
    "            wage_group[fidx] = classify(wage_list[fidx], wage_breaks)\n",
    "        grouped_df.loc[sliced_idx, 'wage_group'] = n_group - wage_group\n",
    "#         grouped_df.loc[sliced_idx, 'wage_group_5'] = (rankdata(data, method='ordinal') - 1)//2\n",
    "#         grouped_df.loc[sliced_idx, 'wage_group_9'] = rankdata(data, method='ordinal') - 1"
   ]
  },
  {
   "cell_type": "code",
   "execution_count": 51,
   "id": "f9f3f375",
   "metadata": {},
   "outputs": [],
   "source": [
    "for position in prof:\n",
    "    for year in np.arange(2017, 2022, 1):\n",
    "        sliced_idx = (grouped_df['Year'] == year) & (grouped_df['Position'] == position)\n",
    "        data = grouped_df[sliced_idx]['uni_rank'].values\n",
    "        uni_list = list(rankdata(-data, method='ordinal') - 1)\n",
    "        uni_breaks = getJenksBreaks(uni_list, n_group)\n",
    "        n_obs = data.shape[0]\n",
    "        uni_group = np.zeros(n_obs)\n",
    "        for fidx in range(n_obs):\n",
    "            uni_group[fidx] = classify(uni_list[fidx], uni_breaks)\n",
    "        grouped_df.loc[sliced_idx, 'uni_group'] = n_group - uni_group"
   ]
  },
  {
   "cell_type": "code",
   "execution_count": 34,
   "id": "ccf71039",
   "metadata": {},
   "outputs": [
    {
     "data": {
      "text/html": [
       "<div>\n",
       "<style scoped>\n",
       "    .dataframe tbody tr th:only-of-type {\n",
       "        vertical-align: middle;\n",
       "    }\n",
       "\n",
       "    .dataframe tbody tr th {\n",
       "        vertical-align: top;\n",
       "    }\n",
       "\n",
       "    .dataframe thead th {\n",
       "        text-align: right;\n",
       "    }\n",
       "</style>\n",
       "<table border=\"1\" class=\"dataframe\">\n",
       "  <thead>\n",
       "    <tr style=\"text-align: right;\">\n",
       "      <th></th>\n",
       "      <th>EmployerName</th>\n",
       "      <th>WageRank</th>\n",
       "      <th>Year</th>\n",
       "      <th>Position</th>\n",
       "      <th>uni_rank</th>\n",
       "      <th>wage_group</th>\n",
       "      <th>uni_group</th>\n",
       "    </tr>\n",
       "  </thead>\n",
       "  <tbody>\n",
       "    <tr>\n",
       "      <th>0</th>\n",
       "      <td>University of California, Berkeley</td>\n",
       "      <td>3268.5</td>\n",
       "      <td>2021</td>\n",
       "      <td>Postdoc-Employee</td>\n",
       "      <td>1.0</td>\n",
       "      <td>3.0</td>\n",
       "      <td>0.0</td>\n",
       "    </tr>\n",
       "    <tr>\n",
       "      <th>1</th>\n",
       "      <td>University of California, Davis</td>\n",
       "      <td>3039.0</td>\n",
       "      <td>2021</td>\n",
       "      <td>Postdoc-Employee</td>\n",
       "      <td>5.0</td>\n",
       "      <td>1.0</td>\n",
       "      <td>2.0</td>\n",
       "    </tr>\n",
       "    <tr>\n",
       "      <th>2</th>\n",
       "      <td>University of California, Irvine</td>\n",
       "      <td>3215.5</td>\n",
       "      <td>2021</td>\n",
       "      <td>Postdoc-Employee</td>\n",
       "      <td>4.0</td>\n",
       "      <td>3.0</td>\n",
       "      <td>2.0</td>\n",
       "    </tr>\n",
       "    <tr>\n",
       "      <th>3</th>\n",
       "      <td>University of California, Los Angeles</td>\n",
       "      <td>2822.0</td>\n",
       "      <td>2021</td>\n",
       "      <td>Postdoc-Employee</td>\n",
       "      <td>0.0</td>\n",
       "      <td>0.0</td>\n",
       "      <td>0.0</td>\n",
       "    </tr>\n",
       "    <tr>\n",
       "      <th>4</th>\n",
       "      <td>University of California, Merced</td>\n",
       "      <td>3604.0</td>\n",
       "      <td>2021</td>\n",
       "      <td>Postdoc-Employee</td>\n",
       "      <td>8.0</td>\n",
       "      <td>4.0</td>\n",
       "      <td>4.0</td>\n",
       "    </tr>\n",
       "    <tr>\n",
       "      <th>...</th>\n",
       "      <td>...</td>\n",
       "      <td>...</td>\n",
       "      <td>...</td>\n",
       "      <td>...</td>\n",
       "      <td>...</td>\n",
       "      <td>...</td>\n",
       "      <td>...</td>\n",
       "    </tr>\n",
       "    <tr>\n",
       "      <th>175</th>\n",
       "      <td>University of California, Merced</td>\n",
       "      <td>850.5</td>\n",
       "      <td>2017</td>\n",
       "      <td>Prof-Ay-B/E/E</td>\n",
       "      <td>7.0</td>\n",
       "      <td>3.0</td>\n",
       "      <td>3.0</td>\n",
       "    </tr>\n",
       "    <tr>\n",
       "      <th>176</th>\n",
       "      <td>University of California, Riverside</td>\n",
       "      <td>696.5</td>\n",
       "      <td>2017</td>\n",
       "      <td>Prof-Ay-B/E/E</td>\n",
       "      <td>8.0</td>\n",
       "      <td>2.0</td>\n",
       "      <td>4.0</td>\n",
       "    </tr>\n",
       "    <tr>\n",
       "      <th>177</th>\n",
       "      <td>University of California, San Diego</td>\n",
       "      <td>557.0</td>\n",
       "      <td>2017</td>\n",
       "      <td>Prof-Ay-B/E/E</td>\n",
       "      <td>4.0</td>\n",
       "      <td>1.0</td>\n",
       "      <td>2.0</td>\n",
       "    </tr>\n",
       "    <tr>\n",
       "      <th>178</th>\n",
       "      <td>University of California, Santa Barbara</td>\n",
       "      <td>541.0</td>\n",
       "      <td>2017</td>\n",
       "      <td>Prof-Ay-B/E/E</td>\n",
       "      <td>2.0</td>\n",
       "      <td>0.0</td>\n",
       "      <td>1.0</td>\n",
       "    </tr>\n",
       "    <tr>\n",
       "      <th>179</th>\n",
       "      <td>University of California, Santa Cruz</td>\n",
       "      <td>907.5</td>\n",
       "      <td>2017</td>\n",
       "      <td>Prof-Ay-B/E/E</td>\n",
       "      <td>6.0</td>\n",
       "      <td>4.0</td>\n",
       "      <td>3.0</td>\n",
       "    </tr>\n",
       "  </tbody>\n",
       "</table>\n",
       "<p>180 rows × 7 columns</p>\n",
       "</div>"
      ],
      "text/plain": [
       "                                EmployerName  WageRank  Year  \\\n",
       "0         University of California, Berkeley    3268.5  2021   \n",
       "1            University of California, Davis    3039.0  2021   \n",
       "2           University of California, Irvine    3215.5  2021   \n",
       "3      University of California, Los Angeles    2822.0  2021   \n",
       "4           University of California, Merced    3604.0  2021   \n",
       "..                                       ...       ...   ...   \n",
       "175         University of California, Merced     850.5  2017   \n",
       "176      University of California, Riverside     696.5  2017   \n",
       "177      University of California, San Diego     557.0  2017   \n",
       "178  University of California, Santa Barbara     541.0  2017   \n",
       "179     University of California, Santa Cruz     907.5  2017   \n",
       "\n",
       "             Position  uni_rank  wage_group  uni_group  \n",
       "0    Postdoc-Employee       1.0         3.0        0.0  \n",
       "1    Postdoc-Employee       5.0         1.0        2.0  \n",
       "2    Postdoc-Employee       4.0         3.0        2.0  \n",
       "3    Postdoc-Employee       0.0         0.0        0.0  \n",
       "4    Postdoc-Employee       8.0         4.0        4.0  \n",
       "..                ...       ...         ...        ...  \n",
       "175     Prof-Ay-B/E/E       7.0         3.0        3.0  \n",
       "176     Prof-Ay-B/E/E       8.0         2.0        4.0  \n",
       "177     Prof-Ay-B/E/E       4.0         1.0        2.0  \n",
       "178     Prof-Ay-B/E/E       2.0         0.0        1.0  \n",
       "179     Prof-Ay-B/E/E       6.0         4.0        3.0  \n",
       "\n",
       "[180 rows x 7 columns]"
      ]
     },
     "execution_count": 34,
     "metadata": {},
     "output_type": "execute_result"
    }
   ],
   "source": [
    "grouped_df"
   ]
  },
  {
   "cell_type": "code",
   "execution_count": 53,
   "id": "ffa4873e",
   "metadata": {},
   "outputs": [
    {
     "name": "stdout",
     "output_type": "stream",
     "text": [
      "0.7800520078661819 Prof-Ay-B/E/E\n",
      "0.746583336330717 Assoc Prof-Ay-B/E/E\n",
      "0.8675630561325167 Asst Prof-Ay-B/E/E\n",
      "0.4029362768914849 Postdoc-Employee\n"
     ]
    }
   ],
   "source": [
    "s_rho = np.zeros(4)\n",
    "k_rho = np.zeros(4)\n",
    "for k in range(4):\n",
    "    title = prof[k]\n",
    "    s_rho[k] = grouped_df[grouped_df['Position'] == title][['WageRank', 'uni_rank']].corr(method='spearman').iloc[0, 1]\n",
    "    k_rho[k] = grouped_df[grouped_df['Position'] == title][['WageRank', 'uni_rank']].corr(method='kendall').iloc[0, 1]\n",
    "    print(s_rho[k], title)"
   ]
  },
  {
   "cell_type": "code",
   "execution_count": 54,
   "id": "53689a69",
   "metadata": {},
   "outputs": [
    {
     "data": {
      "text/plain": [
       "array([0.78 , 0.747, 0.868, 0.403])"
      ]
     },
     "execution_count": 54,
     "metadata": {},
     "output_type": "execute_result"
    }
   ],
   "source": [
    "np.round(s_rho, 3)"
   ]
  },
  {
   "cell_type": "code",
   "execution_count": 55,
   "id": "6dc4ae02",
   "metadata": {},
   "outputs": [
    {
     "data": {
      "text/plain": [
       "array([0.616, 0.585, 0.707, 0.298])"
      ]
     },
     "execution_count": 55,
     "metadata": {},
     "output_type": "execute_result"
    }
   ],
   "source": [
    "np.round(k_rho, 3)"
   ]
  },
  {
   "cell_type": "code",
   "execution_count": 56,
   "id": "3ad5cca9",
   "metadata": {},
   "outputs": [
    {
     "data": {
      "text/plain": [
       "array([0.78005201, 0.74658334, 0.86756306, 0.40293628])"
      ]
     },
     "execution_count": 56,
     "metadata": {},
     "output_type": "execute_result"
    }
   ],
   "source": [
    "s_rho"
   ]
  },
  {
   "cell_type": "code",
   "execution_count": 57,
   "id": "3e8613db",
   "metadata": {},
   "outputs": [
    {
     "data": {
      "text/plain": [
       "array([0.61613575, 0.58538198, 0.70663379, 0.29784267])"
      ]
     },
     "execution_count": 57,
     "metadata": {},
     "output_type": "execute_result"
    }
   ],
   "source": [
    "k_rho"
   ]
  },
  {
   "cell_type": "code",
   "execution_count": 52,
   "id": "186afb76",
   "metadata": {},
   "outputs": [
    {
     "name": "stdout",
     "output_type": "stream",
     "text": [
      "Title Prof-Ay-B/E/E Diff 0.4888888888888889\n",
      "Title Assoc Prof-Ay-B/E/E Diff 0.5777777777777777\n",
      "Title Asst Prof-Ay-B/E/E Diff 0.26666666666666666\n",
      "Title Postdoc-Employee Diff 0.9777777777777777\n",
      "SpearmanrResult(correlation=-1.0, pvalue=0.0)\n",
      "KendalltauResult(correlation=-1.0, pvalue=0.08333333333333333)\n"
     ]
    }
   ],
   "source": [
    "diff = np.zeros(4)\n",
    "for k in range(4):\n",
    "    title = prof[k]\n",
    "    sliced_df = grouped_df[grouped_df['Position'] == title]\n",
    "    diff[k] = np.abs(sliced_df['uni_group'] - sliced_df['wage_group']).mean()\n",
    "    print('Title', title, 'Diff', diff[k])\n",
    "\n",
    "print(spearmanr(s_rho, diff))\n",
    "print(kendalltau(k_rho, diff))"
   ]
  },
  {
   "cell_type": "code",
   "execution_count": null,
   "id": "b93cfb37",
   "metadata": {},
   "outputs": [],
   "source": [
    "# 2 groups\n",
    "Title Prof-Ay-B/E/E Diff 0.2222222222222222\n",
    "Title Assoc Prof-Ay-B/E/E Diff 0.17777777777777778\n",
    "Title Asst Prof-Ay-B/E/E Diff 0.13333333333333333\n",
    "Title Postdoc-Employee Diff 0.4444444444444444\n",
    "SpearmanrResult(correlation=-0.7999999999999999, pvalue=0.20000000000000007)\n",
    "KendalltauResult(correlation=-0.6666666666666669, pvalue=0.3333333333333333)"
   ]
  },
  {
   "cell_type": "code",
   "execution_count": null,
   "id": "3c9dc7d5",
   "metadata": {},
   "outputs": [],
   "source": [
    "# 3 groups\n",
    "Title Prof-Ay-B/E/E Diff 0.26666666666666666\n",
    "Title Assoc Prof-Ay-B/E/E Diff 0.4\n",
    "Title Asst Prof-Ay-B/E/E Diff 0.2222222222222222\n",
    "Title Postdoc-Employee Diff 0.6666666666666666\n",
    "SpearmanrResult(correlation=-1.0, pvalue=0.0)\n",
    "KendalltauResult(correlation=-1.0, pvalue=0.08333333333333333)"
   ]
  },
  {
   "cell_type": "code",
   "execution_count": null,
   "id": "ca084571",
   "metadata": {},
   "outputs": [],
   "source": [
    "# 4 groups\n",
    "Title Prof-Ay-B/E/E Diff 0.4888888888888889\n",
    "Title Assoc Prof-Ay-B/E/E Diff 0.5777777777777777\n",
    "Title Asst Prof-Ay-B/E/E Diff 0.26666666666666666\n",
    "Title Postdoc-Employee Diff 0.9777777777777777\n",
    "SpearmanrResult(correlation=-1.0, pvalue=0.0)\n",
    "KendalltauResult(correlation=-1.0, pvalue=0.08333333333333333)"
   ]
  },
  {
   "cell_type": "code",
   "execution_count": null,
   "id": "7b4da6f7",
   "metadata": {},
   "outputs": [],
   "source": [
    "# Five groups\n",
    "Title Prof-Ay-B/E/E Diff 0.8\n",
    "Title Assoc Prof-Ay-B/E/E Diff 0.5777777777777777\n",
    "Title Asst Prof-Ay-B/E/E Diff 0.4444444444444444\n",
    "Title Postdoc-Employee Diff 1.1111111111111112\n",
    "SpearmanrResult(correlation=-0.7999999999999999, pvalue=0.20000000000000007)\n",
    "KendalltauResult(correlation=-0.6666666666666669, pvalue=0.3333333333333333)"
   ]
  },
  {
   "cell_type": "code",
   "execution_count": null,
   "id": "97fb0edc",
   "metadata": {},
   "outputs": [],
   "source": [
    "# Six groups\n",
    "Title Prof-Ay-B/E/E Diff 1.0222222222222221\n",
    "Title Assoc Prof-Ay-B/E/E Diff 0.7555555555555555\n",
    "Title Asst Prof-Ay-B/E/E Diff 0.4888888888888889\n",
    "Title Postdoc-Employee Diff 1.288888888888889\n",
    "SpearmanrResult(correlation=-0.7999999999999999, pvalue=0.20000000000000007)\n",
    "KendalltauResult(correlation=-0.6666666666666669, pvalue=0.3333333333333333)"
   ]
  },
  {
   "cell_type": "code",
   "execution_count": null,
   "id": "2bcda9a9",
   "metadata": {},
   "outputs": [],
   "source": []
  }
 ],
 "metadata": {
  "kernelspec": {
   "display_name": "Python 3 (ipykernel)",
   "language": "python",
   "name": "python3"
  },
  "language_info": {
   "codemirror_mode": {
    "name": "ipython",
    "version": 3
   },
   "file_extension": ".py",
   "mimetype": "text/x-python",
   "name": "python",
   "nbconvert_exporter": "python",
   "pygments_lexer": "ipython3",
   "version": "3.9.12"
  }
 },
 "nbformat": 4,
 "nbformat_minor": 5
}
