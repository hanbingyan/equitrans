{
 "cells": [
  {
   "cell_type": "code",
   "execution_count": 1,
   "id": "d4b47f0b",
   "metadata": {},
   "outputs": [],
   "source": [
    "import matplotlib.pyplot as plt\n",
    "import pandas as pd\n",
    "import numpy as np\n",
    "from sklearn.linear_model import LinearRegression, HuberRegressor\n",
    "import pickle\n",
    "import itertools\n",
    "import time\n",
    "import ot\n",
    "import os\n",
    "from scipy.stats import rankdata, spearmanr, kendalltau\n",
    "import seaborn as sns\n",
    "from datetime import datetime\n",
    "# from scipy.signal import savgol_filter\n",
    "# from scipy.ndimage import gaussian_filter1d\n",
    "import tv1d"
   ]
  },
  {
   "cell_type": "code",
   "execution_count": 2,
   "id": "16df6888",
   "metadata": {},
   "outputs": [],
   "source": [
    "n_group = 6\n",
    "alpha_arr = np.linspace(-0.5, 0.5, 51)"
   ]
  },
  {
   "cell_type": "code",
   "execution_count": 3,
   "id": "cc086902",
   "metadata": {},
   "outputs": [],
   "source": [
    "log_dir = './exec_logs'\n",
    "cali_dir = './exec_cali'"
   ]
  },
  {
   "cell_type": "code",
   "execution_count": 4,
   "id": "d2878c06",
   "metadata": {},
   "outputs": [],
   "source": [
    "merged = pd.read_csv('{}/classified_group_{}.csv'.format(log_dir, n_group))\n",
    "gs = merged['gsector'].unique()\n",
    "gs = np.sort(gs)"
   ]
  },
  {
   "cell_type": "code",
   "execution_count": 5,
   "id": "8703c0f8",
   "metadata": {
    "scrolled": true
   },
   "outputs": [
    {
     "name": "stdout",
     "output_type": "stream",
     "text": [
      "0.7200003472282505 10.0\n",
      "0.7928956689643197 15.0\n",
      "0.752101889659705 20.0\n",
      "0.5151237271620308 25.0\n",
      "0.7545894894008577 30.0\n",
      "0.7681547859004926 35.0\n",
      "0.7453651086449873 40.0\n",
      "0.645947166842881 45.0\n",
      "0.750353349037735 50.0\n",
      "0.870968559496952 55.0\n",
      "0.5591284801119722 60.0\n"
     ]
    }
   ],
   "source": [
    "s_corr = np.zeros(11)\n",
    "k_corr = np.zeros(11)\n",
    "for k in range(11):\n",
    "    s_corr[k] = merged[merged['gsector'] == gs[k]][['tdc1', 'sale']].corr(method='spearman').iloc[0, 1]\n",
    "    k_corr[k] = merged[merged['gsector'] == gs[k]][['tdc1', 'sale']].corr(method='kendall').iloc[0, 1]\n",
    "    print(s_corr[k], gs[k])"
   ]
  },
  {
   "cell_type": "code",
   "execution_count": null,
   "id": "08b7356e",
   "metadata": {},
   "outputs": [],
   "source": [
    "merged[(merged['gsector'] == 10) & (merged['year'] == 2021)]"
   ]
  },
  {
   "cell_type": "markdown",
   "id": "d3f34e12",
   "metadata": {},
   "source": [
    "## Constant paths "
   ]
  },
  {
   "cell_type": "code",
   "execution_count": 6,
   "id": "835f7263",
   "metadata": {},
   "outputs": [],
   "source": [
    "bench_zero = True\n",
    "SIMDATA_PROP = 0.0\n",
    "sim_n = 10\n",
    "min_alph_zero = np.zeros((11, sim_n))\n",
    "for gs_idx in range(11):\n",
    "    for sim_idx in range(sim_n):\n",
    "        fdir = 'gs_{}_group_{}_sim_{}_zero_{}_simprop_{}'.format(int(gs[gs_idx]), n_group, sim_idx,\n",
    "                                                                 bench_zero, SIMDATA_PROP)\n",
    "        with open('{}/{}/sink_arr.pickle'.format(cali_dir, fdir), 'rb') as fp:\n",
    "            sink = pickle.load(fp)\n",
    "        den_sink = tv1d.denoising_1D_TV(sink, 0.001/2)\n",
    "        cand = np.where(sink == sink.min())[0]\n",
    "        min_id = cand[np.argmin(np.abs(cand-25))]\n",
    "        min_alph_zero[gs_idx, sim_idx] = alpha_arr[min_id]\n",
    "#         min_alph_6_zero[gs_idx, sim_idx] = alpha_arr[np.argmin(den_sink)]\n",
    "#         min_alph_zero[gs_idx, sim_idx] = alpha_arr[np.argsort(sink)[0]].mean()"
   ]
  },
  {
   "cell_type": "markdown",
   "id": "c9f7cd68",
   "metadata": {},
   "source": [
    "## Real paths"
   ]
  },
  {
   "cell_type": "code",
   "execution_count": 7,
   "id": "cd2f983b",
   "metadata": {},
   "outputs": [],
   "source": [
    "bench_zero = False\n",
    "SIMDATA_PROP = 0.0\n",
    "sim_n = 10\n",
    "min_alph = np.zeros((11, sim_n))\n",
    "for gs_idx in range(11):\n",
    "    for sim_idx in range(sim_n):\n",
    "        fdir = 'gs_{}_group_{}_sim_{}_zero_{}_simprop_{}'.format(int(gs[gs_idx]), n_group, sim_idx,\n",
    "                                                                 bench_zero, SIMDATA_PROP)\n",
    "        with open('{}/{}/sink_arr.pickle'.format(cali_dir, fdir), 'rb') as fp:\n",
    "            sink = pickle.load(fp)\n",
    "        den_sink = tv1d.denoising_1D_TV(sink, 0.001/2)\n",
    "        cand = np.where(sink == sink.min())[0]\n",
    "        min_id = cand[np.argmin(np.abs(cand-25))]\n",
    "#         min_alph_6[gs_idx, sim_idx] = alpha_arr[np.argmin(den_sink)]\n",
    "        min_alph[gs_idx, sim_idx] = alpha_arr[min_id]"
   ]
  },
  {
   "cell_type": "code",
   "execution_count": null,
   "id": "f2282916",
   "metadata": {},
   "outputs": [],
   "source": [
    "alpha_arr[25]"
   ]
  },
  {
   "cell_type": "markdown",
   "id": "937239f1",
   "metadata": {},
   "source": [
    "## Correlation"
   ]
  },
  {
   "cell_type": "code",
   "execution_count": null,
   "id": "c3d8b005",
   "metadata": {},
   "outputs": [],
   "source": [
    "min_alph_zero.std(axis=1).sum()"
   ]
  },
  {
   "cell_type": "code",
   "execution_count": 21,
   "id": "09faa754",
   "metadata": {},
   "outputs": [
    {
     "data": {
      "text/plain": [
       "array([-0.42 , -0.12 , -0.318, -0.324, -0.282, -0.366, -0.42 , -0.21 ,\n",
       "       -0.252, -0.222, -0.294])"
      ]
     },
     "execution_count": 21,
     "metadata": {},
     "output_type": "execute_result"
    }
   ],
   "source": [
    "np.mean(min_alph_zero, axis=1)*30/10"
   ]
  },
  {
   "cell_type": "code",
   "execution_count": null,
   "id": "f6465a14",
   "metadata": {},
   "outputs": [],
   "source": [
    "spearmanr(s_corr, np.mean(min_alph_zero, axis=1)*30/10)"
   ]
  },
  {
   "cell_type": "code",
   "execution_count": 22,
   "id": "3f9584ef",
   "metadata": {
    "scrolled": true
   },
   "outputs": [
    {
     "data": {
      "text/plain": [
       "array([ 0.012, -0.072, -0.006,  0.45 , -0.132, -0.51 , -0.444, -0.066,\n",
       "       -0.492, -0.462,  0.054])"
      ]
     },
     "execution_count": 22,
     "metadata": {},
     "output_type": "execute_result"
    }
   ],
   "source": [
    "np.mean(min_alph, axis=1)*30/10"
   ]
  },
  {
   "cell_type": "code",
   "execution_count": 14,
   "id": "bc7dcbe0",
   "metadata": {},
   "outputs": [
    {
     "data": {
      "text/plain": [
       "array([ 0.522,  0.066,  0.336,  0.606,  0.096,  0.144,  0.24 ,  0.756,\n",
       "       -0.126,  0.138,  0.762])"
      ]
     },
     "execution_count": 14,
     "metadata": {},
     "output_type": "execute_result"
    }
   ],
   "source": [
    "np.mean(min_alph - min_alph_zero, axis=1)*30/10"
   ]
  },
  {
   "cell_type": "code",
   "execution_count": 23,
   "id": "5560de5b",
   "metadata": {},
   "outputs": [
    {
     "data": {
      "text/plain": [
       "SpearmanrResult(correlation=-0.7090909090909092, pvalue=0.014552051953727704)"
      ]
     },
     "execution_count": 23,
     "metadata": {},
     "output_type": "execute_result"
    }
   ],
   "source": [
    "spearmanr(s_corr, np.mean(min_alph, axis=1))"
   ]
  },
  {
   "cell_type": "code",
   "execution_count": 24,
   "id": "832457fb",
   "metadata": {},
   "outputs": [
    {
     "data": {
      "text/plain": [
       "KendalltauResult(correlation=-0.6363636363636364, pvalue=0.005707170915504249)"
      ]
     },
     "execution_count": 24,
     "metadata": {},
     "output_type": "execute_result"
    }
   ],
   "source": [
    "kendalltau(k_corr, np.mean(min_alph, axis=1))"
   ]
  },
  {
   "cell_type": "code",
   "execution_count": 13,
   "id": "564771b6",
   "metadata": {},
   "outputs": [
    {
     "data": {
      "text/plain": [
       "array([0.72000035, 0.79289567, 0.75210189, 0.51512373, 0.75458949,\n",
       "       0.76815479, 0.74536511, 0.64594717, 0.75035335, 0.87096856,\n",
       "       0.55912848])"
      ]
     },
     "execution_count": 13,
     "metadata": {},
     "output_type": "execute_result"
    }
   ],
   "source": [
    "s_corr"
   ]
  },
  {
   "cell_type": "code",
   "execution_count": 15,
   "id": "61e429f7",
   "metadata": {},
   "outputs": [
    {
     "data": {
      "text/plain": [
       "[<matplotlib.lines.Line2D at 0x19706167790>]"
      ]
     },
     "execution_count": 15,
     "metadata": {},
     "output_type": "execute_result"
    },
    {
     "data": {
      "image/png": "[encoded data removed]",
      "text/plain": [
       "<Figure size 432x288 with 1 Axes>"
      ]
     },
     "metadata": {
      "needs_background": "light"
     },
     "output_type": "display_data"
    }
   ],
   "source": [
    "plt.plot(s_corr, np.mean(min_alph-min_alph_zero, axis=1)*3, 'o')"
   ]
  },
  {
   "cell_type": "code",
   "execution_count": null,
   "id": "c7bf8e3c",
   "metadata": {},
   "outputs": [],
   "source": []
  },
  {
   "cell_type": "code",
   "execution_count": null,
   "id": "485f91af",
   "metadata": {},
   "outputs": [],
   "source": []
  },
  {
   "cell_type": "markdown",
   "id": "6aa35805",
   "metadata": {},
   "source": [
    "## Figures"
   ]
  },
  {
   "cell_type": "code",
   "execution_count": null,
   "id": "b7cf5051",
   "metadata": {},
   "outputs": [],
   "source": [
    "plt.style.use('seaborn-whitegrid')\n",
    "plt.rcParams[\"axes.prop_cycle\"] = plt.cycler(\"color\", plt.cm.tab10.colors)"
   ]
  },
  {
   "cell_type": "code",
   "execution_count": null,
   "id": "5025266c",
   "metadata": {
    "scrolled": false
   },
   "outputs": [],
   "source": [
    "gs_idx = 10\n",
    "bench_zero = False\n",
    "SIMDATA_PROP = 0.0\n",
    "industry = [gs[gs_idx]]\n",
    "gvkey = merged[merged['gsector'].isin(industry)]['gvkey'].unique()\n",
    "firm_num = len(gvkey)\n",
    "print('firm_num', firm_num)\n",
    "plt.figure(figsize=(10, 6))\n",
    "for k in range(10):   \n",
    "    sub_folder = 'gs_{}_group_{}_sim_{}_zero_{}_simprop_{}'.format(int(gs[gs_idx]), n_group, k,\n",
    "                                                                   bench_zero, SIMDATA_PROP)\n",
    "    sub_dir = \"{}/{}\".format(cali_dir, sub_folder)\n",
    "\n",
    "    with open('{}/sink_arr.pickle'.format(sub_dir), 'rb') as fp:\n",
    "        sink = pickle.load(fp)\n",
    "        \n",
    "#     with open('{}/likelihood.pickle'.format(sub_dir), 'rb') as fp:\n",
    "#         likeli = pickle.load(fp)        \n",
    "    \n",
    "    den_sink = tv1d.denoising_1D_TV(sink, 0.001/2)\n",
    "\n",
    "#     print('variation', np.sum(np.abs(sink[1:] - sink[:-1])**2)) \n",
    "#     print('filtered min alpha', alpha_arr[np.argmin(den_sink)])\n",
    "#     print('filtered min alpha', alpha_arr[np.argmin(sink_filtered)])\n",
    "#     print('original min alpha', alpha_arr[np.argsort(sink)[:5]])\n",
    "#     axs[k].plot(alpha_arr, likeli.sum(axis=1))\n",
    "#     axs[k].plot(alpha_arr, sink)\n",
    "    plt.plot(alpha_arr*30/10, sink/sink[0])   \n",
    "plt.tick_params(axis='both', which='major', labelsize=15)\n",
    "plt.xlabel(r'$\\alpha$', fontsize=15)\n",
    "plt.ylabel('Wasserstein distance (Normalized)', fontsize=15)\n",
    "\n",
    "# plt.savefig('gs60_RealEs_real.pdf', format='pdf', dpi=1000, bbox_inches='tight', pad_inches=0.1)"
   ]
  },
  {
   "cell_type": "code",
   "execution_count": null,
   "id": "ddd9a26a",
   "metadata": {},
   "outputs": [],
   "source": [
    "str(True)"
   ]
  },
  {
   "cell_type": "code",
   "execution_count": null,
   "id": "fc3cba56",
   "metadata": {},
   "outputs": [],
   "source": [
    "SIMDATA_PROP = 0.0\n",
    "gs_idx = 1\n",
    "industry = [gs[gs_idx]]\n",
    "df = []\n",
    "# gvkey = merged[merged['gsector'].isin(industry)]['gvkey'].unique()\n",
    "# firm_num = len(gvkey)\n",
    "# print('firm_num', firm_num)\n",
    "# sink_sum = np.zeros(51)\n",
    "for ins in range(sim_n):\n",
    "    for bench_zero in [True, False]:\n",
    "        sub_folder = 'gs_{}_group_{}_sim_{}_zero_{}_simprop_{}'.format(int(gs[gs_idx]), n_group, ins,\n",
    "                                                                       bench_zero, SIMDATA_PROP)\n",
    "        sub_dir = \"{}/{}\".format(cali_dir, sub_folder)\n",
    "\n",
    "        with open('{}/sink_arr.pickle'.format(sub_dir), 'rb') as fp:\n",
    "            sink = pickle.load(fp)\n",
    "        df.append(pd.DataFrame({'Q':sink/sink[-1], 'instance': ins*np.ones(51), \n",
    "                                'adjusted':[str(bench_zero),]*51, 'step': alpha_arr*30/10}))\n",
    "Qdf = pd.concat(df)\n",
    "\n",
    "Qdf = Qdf.reset_index(drop=True)\n",
    "\n",
    "plt.figure(figsize=(8,6))\n",
    "palette = sns.color_palette(\"husl\", 2)\n",
    "g = sns.lineplot(data=Qdf, x='step', y='Q', hue='adjusted', palette=palette) # err_style=\"bars\", errorbar=(\"se\", 2)) \n",
    "# estimator=np.median)\n",
    "# g.set_ylim(99, 110)\n",
    "# g.set(yscale='log')\n",
    "# g.axhline(0.0, ls=':')\n",
    "plt.xlabel(r'$\\alpha$', fontsize=16)\n",
    "plt.ylabel('Q-values', fontsize=16)\n",
    "g.tick_params(axis = 'both', which = 'major', labelsize = 16)\n",
    "plt.legend(bbox_to_anchor=(1., 1), title='Spreads', fontsize=14, title_fontsize=14)\n",
    "plt.show()\n",
    "# plt.savefig('Q_oneside.pdf', format='pdf', dpi=1000, bbox_inches='tight', pad_inches=0.1)"
   ]
  },
  {
   "cell_type": "code",
   "execution_count": null,
   "id": "c0c7cd6a",
   "metadata": {},
   "outputs": [],
   "source": [
    "diff = np.zeros(11)\n",
    "for gs_idx in range(11):\n",
    "    fdir = 'gs_{}_group_{}_zero_{}_simprop_{}'.format(int(gs[gs_idx]), n_group, bench_zero, SIMDATA_PROP)\n",
    "    with open('{}/{}/obs_path.pickle'.format(log_dir, fdir), 'rb') as fp:\n",
    "        obs = pickle.load(fp)\n",
    "    diff[gs_idx] = np.abs(obs[:, ::2] - obs[:, 1::2]).mean()\n",
    "    print('GS', gs[gs_idx], gs_idx, 'Diff', diff[gs_idx])"
   ]
  },
  {
   "cell_type": "code",
   "execution_count": null,
   "id": "3942e2db",
   "metadata": {},
   "outputs": [],
   "source": [
    "spearmanr(diff, np.median(min_alph_6 - min_alph_6_zero, axis=1))"
   ]
  },
  {
   "cell_type": "code",
   "execution_count": null,
   "id": "74eedc5a",
   "metadata": {},
   "outputs": [],
   "source": []
  },
  {
   "cell_type": "code",
   "execution_count": null,
   "id": "79c384ad",
   "metadata": {},
   "outputs": [],
   "source": [
    "# with open('./sim_0_alpha_0/real_path.pickle', 'rb') as fp:\n",
    "#     real_path = pickle.load(fp)\n",
    "\n",
    "with open('./normal_simdata_cali_30/gs_10_split_6_sim_0/ot_path_25.pickle', 'rb') as fp:\n",
    "    ot_path_25 = pickle.load(fp)\n",
    "\n",
    "with open('./normal_simdata_cali_30/gs_10_split_6_sim_0/ot_path_50.pickle', 'rb') as fp:\n",
    "    ot_path_50 = pickle.load(fp)\n",
    "\n",
    "with open('./normal_simdata_cali_30/gs_10_split_6_sim_1/path_prob_25.pickle', 'rb') as fp:\n",
    "    path_prob_25 = pickle.load(fp)\n",
    "\n",
    "with open('./normal_simdata_cali_30/gs_10_split_6_sim_1/path_prob_50.pickle', 'rb') as fp:\n",
    "    path_prob_50 = pickle.load(fp)"
   ]
  },
  {
   "cell_type": "code",
   "execution_count": null,
   "id": "8ba4f037",
   "metadata": {},
   "outputs": [],
   "source": [
    "path_prob_25[:20].sum()"
   ]
  },
  {
   "cell_type": "code",
   "execution_count": null,
   "id": "564d7d67",
   "metadata": {},
   "outputs": [],
   "source": []
  },
  {
   "cell_type": "code",
   "execution_count": null,
   "id": "153d0451",
   "metadata": {},
   "outputs": [],
   "source": [
    "plt.plot(path_prob_50 - path_prob_25)\n",
    "# plt.plot()"
   ]
  },
  {
   "cell_type": "code",
   "execution_count": null,
   "id": "afae5d56",
   "metadata": {},
   "outputs": [],
   "source": [
    "ot_path_25[:20, :]"
   ]
  },
  {
   "cell_type": "code",
   "execution_count": null,
   "id": "2e9d18ef",
   "metadata": {},
   "outputs": [],
   "source": [
    "(ot_path_50 - ot_path_25)[:50, :]"
   ]
  },
  {
   "cell_type": "code",
   "execution_count": null,
   "id": "255d1069",
   "metadata": {},
   "outputs": [],
   "source": [
    "path_num = ot_path_50.shape[0]"
   ]
  },
  {
   "cell_type": "code",
   "execution_count": null,
   "id": "f4500a65",
   "metadata": {},
   "outputs": [],
   "source": [
    "for p in range(50):\n",
    "    plt.plot(ot_path_25[p, :])"
   ]
  },
  {
   "cell_type": "code",
   "execution_count": null,
   "id": "d9bb7f05",
   "metadata": {},
   "outputs": [],
   "source": [
    "end_ = 200\n",
    "print(np.abs(ot_path_25[:end_, ::2] - ot_path_25[:end_, 1::2]).sum()) \n",
    "print(np.abs(ot_path_50[:end_, ::2] - ot_path_50[:end_, 1::2]).sum())"
   ]
  },
  {
   "cell_type": "code",
   "execution_count": null,
   "id": "d3f336d5",
   "metadata": {
    "scrolled": true
   },
   "outputs": [],
   "source": [
    "for p in range(path_num):\n",
    "    plt.plot(ot_path_0[p, :])"
   ]
  },
  {
   "cell_type": "code",
   "execution_count": null,
   "id": "b9a4be26",
   "metadata": {},
   "outputs": [],
   "source": [
    "ot_path_0[:50, :] - ot_path_50[:50, :]"
   ]
  },
  {
   "cell_type": "code",
   "execution_count": null,
   "id": "9f03a49d",
   "metadata": {},
   "outputs": [],
   "source": [
    "sub_dir = \"{}/gs_10_split_7/sim_0_alpha_50\".format(log_dir)\n",
    "\n",
    "with open('{}/value_func.pickle'.format(sub_dir), 'rb') as fp:\n",
    "    value_func = pickle.load(fp)"
   ]
  },
  {
   "cell_type": "code",
   "execution_count": null,
   "id": "f57e80ec",
   "metadata": {},
   "outputs": [],
   "source": [
    "value_func.shape"
   ]
  },
  {
   "cell_type": "code",
   "execution_count": null,
   "id": "5e2b6c3e",
   "metadata": {},
   "outputs": [],
   "source": [
    "cmap = sns.diverging_palette(230, 20, as_cmap=True)\n",
    "plt.figure(figsize=(16, 12))\n",
    "ax = sns.heatmap(value_func[1, :, :], xticklabels=np.arange(1, 6),\n",
    "                 yticklabels=np.arange(1, 6),\n",
    "                 annot=True, fmt=\".1f\", annot_kws={\"fontsize\": 10}, cmap=cmap)\n",
    "# kurs = \"salemat_{}_{}_{}_{}.pdf\".format('split', w_split_n, 'gsector', gs[gs_idx]\n",
    "# plt.savefig(kurs, format='pdf', dpi=1000, bbox_inches='tight', pad_inches=0.1)"
   ]
  },
  {
   "cell_type": "code",
   "execution_count": null,
   "id": "3fc0568c",
   "metadata": {},
   "outputs": [],
   "source": [
    "np.unravel_index(np.argsort(ot_init, axis=None), ot_init.shape)"
   ]
  },
  {
   "cell_type": "code",
   "execution_count": null,
   "id": "4a9a413a",
   "metadata": {},
   "outputs": [],
   "source": [
    "alpha_arr[[0, 15, 25, 35, 50]]"
   ]
  },
  {
   "cell_type": "code",
   "execution_count": null,
   "id": "1dcfcfe0",
   "metadata": {},
   "outputs": [],
   "source": [
    "0 in [1,2]"
   ]
  },
  {
   "cell_type": "code",
   "execution_count": null,
   "id": "aac849c2",
   "metadata": {},
   "outputs": [],
   "source": [
    "(ot_path_25 - ot_path_50)[:100]"
   ]
  },
  {
   "cell_type": "code",
   "execution_count": null,
   "id": "0d1b3cb9",
   "metadata": {},
   "outputs": [],
   "source": [
    "gs_idx = 0\n",
    "w_file_name = \"wage_trans_{}_{}.pickle\".format('gsector', int(gs[gs_idx]))\n",
    "with open('{}/{}'.format(log_dir, w_file_name), 'rb') as fp:\n",
    "    wage_trans = pickle.load(fp)\n",
    "\n",
    "x_shape = wage_trans.shape[0]\n",
    "\n",
    "cmap = sns.diverging_palette(230, 20, as_cmap=True)\n",
    "plt.figure(figsize=(12, 10))\n",
    "ax = sns.heatmap(wage_trans, xticklabels=np.arange(1, x_shape+1),\n",
    "                 yticklabels=np.arange(1, x_shape+1),\n",
    "                 annot=True, fmt=\".1f\", annot_kws={\"fontsize\": 12}, cmap=cmap)"
   ]
  },
  {
   "cell_type": "code",
   "execution_count": null,
   "id": "f11435fd",
   "metadata": {},
   "outputs": [],
   "source": []
  }
 ],
 "metadata": {
  "kernelspec": {
   "display_name": "Python 3 (ipykernel)",
   "language": "python",
   "name": "python3"
  },
  "language_info": {
   "codemirror_mode": {
    "name": "ipython",
    "version": 3
   },
   "file_extension": ".py",
   "mimetype": "text/x-python",
   "name": "python",
   "nbconvert_exporter": "python",
   "pygments_lexer": "ipython3",
   "version": "3.9.12"
  }
 },
 "nbformat": 4,
 "nbformat_minor": 5
}
