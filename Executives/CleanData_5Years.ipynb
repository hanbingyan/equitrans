{
 "cells": [
  {
   "cell_type": "code",
   "execution_count": 1,
   "id": "a5a9fb66",
   "metadata": {},
   "outputs": [],
   "source": [
    "import matplotlib.pyplot as plt\n",
    "import pandas as pd\n",
    "import numpy as np"
   ]
  },
  {
   "cell_type": "code",
   "execution_count": 2,
   "id": "c6d61ac1",
   "metadata": {},
   "outputs": [],
   "source": [
    "ceo = pd.read_csv('ceo_y17.csv')"
   ]
  },
  {
   "cell_type": "code",
   "execution_count": 3,
   "id": "1c6f8d5a",
   "metadata": {},
   "outputs": [],
   "source": [
    "finstat = pd.read_csv('finstat_y17.csv')"
   ]
  },
  {
   "cell_type": "code",
   "execution_count": 4,
   "id": "ffdc84c1",
   "metadata": {},
   "outputs": [
    {
     "data": {
      "text/plain": [
       "(1998, 11911)"
      ]
     },
     "execution_count": 4,
     "metadata": {},
     "output_type": "execute_result"
    }
   ],
   "source": [
    "ceo['GVKEY'].nunique(), finstat['gvkey'].nunique()"
   ]
  },
  {
   "cell_type": "code",
   "execution_count": 5,
   "id": "0518f930",
   "metadata": {},
   "outputs": [
    {
     "data": {
      "text/html": [
       "<div>\n",
       "<style scoped>\n",
       "    .dataframe tbody tr th:only-of-type {\n",
       "        vertical-align: middle;\n",
       "    }\n",
       "\n",
       "    .dataframe tbody tr th {\n",
       "        vertical-align: top;\n",
       "    }\n",
       "\n",
       "    .dataframe thead th {\n",
       "        text-align: right;\n",
       "    }\n",
       "</style>\n",
       "<table border=\"1\" class=\"dataframe\">\n",
       "  <thead>\n",
       "    <tr style=\"text-align: right;\">\n",
       "      <th></th>\n",
       "      <th>gvkey</th>\n",
       "      <th>datadate</th>\n",
       "      <th>fyear</th>\n",
       "      <th>indfmt</th>\n",
       "      <th>consol</th>\n",
       "      <th>popsrc</th>\n",
       "      <th>datafmt</th>\n",
       "      <th>tic</th>\n",
       "      <th>curcd</th>\n",
       "      <th>sale</th>\n",
       "      <th>costat</th>\n",
       "      <th>mkvalt</th>\n",
       "      <th>ggroup</th>\n",
       "      <th>gind</th>\n",
       "      <th>gsector</th>\n",
       "      <th>gsubind</th>\n",
       "    </tr>\n",
       "  </thead>\n",
       "  <tbody>\n",
       "    <tr>\n",
       "      <th>66</th>\n",
       "      <td>1119</td>\n",
       "      <td>20171231</td>\n",
       "      <td>2017.0</td>\n",
       "      <td>INDL</td>\n",
       "      <td>C</td>\n",
       "      <td>D</td>\n",
       "      <td>STD</td>\n",
       "      <td>ADX</td>\n",
       "      <td>USD</td>\n",
       "      <td>NaN</td>\n",
       "      <td>A</td>\n",
       "      <td>NaN</td>\n",
       "      <td>NaN</td>\n",
       "      <td>NaN</td>\n",
       "      <td>NaN</td>\n",
       "      <td>NaN</td>\n",
       "    </tr>\n",
       "    <tr>\n",
       "      <th>67</th>\n",
       "      <td>1119</td>\n",
       "      <td>20181231</td>\n",
       "      <td>2018.0</td>\n",
       "      <td>INDL</td>\n",
       "      <td>C</td>\n",
       "      <td>D</td>\n",
       "      <td>STD</td>\n",
       "      <td>ADX</td>\n",
       "      <td>USD</td>\n",
       "      <td>NaN</td>\n",
       "      <td>A</td>\n",
       "      <td>NaN</td>\n",
       "      <td>NaN</td>\n",
       "      <td>NaN</td>\n",
       "      <td>NaN</td>\n",
       "      <td>NaN</td>\n",
       "    </tr>\n",
       "    <tr>\n",
       "      <th>68</th>\n",
       "      <td>1119</td>\n",
       "      <td>20191231</td>\n",
       "      <td>2019.0</td>\n",
       "      <td>INDL</td>\n",
       "      <td>C</td>\n",
       "      <td>D</td>\n",
       "      <td>STD</td>\n",
       "      <td>ADX</td>\n",
       "      <td>USD</td>\n",
       "      <td>NaN</td>\n",
       "      <td>A</td>\n",
       "      <td>NaN</td>\n",
       "      <td>NaN</td>\n",
       "      <td>NaN</td>\n",
       "      <td>NaN</td>\n",
       "      <td>NaN</td>\n",
       "    </tr>\n",
       "    <tr>\n",
       "      <th>69</th>\n",
       "      <td>1119</td>\n",
       "      <td>20201231</td>\n",
       "      <td>2020.0</td>\n",
       "      <td>INDL</td>\n",
       "      <td>C</td>\n",
       "      <td>D</td>\n",
       "      <td>STD</td>\n",
       "      <td>ADX</td>\n",
       "      <td>USD</td>\n",
       "      <td>NaN</td>\n",
       "      <td>A</td>\n",
       "      <td>NaN</td>\n",
       "      <td>NaN</td>\n",
       "      <td>NaN</td>\n",
       "      <td>NaN</td>\n",
       "      <td>NaN</td>\n",
       "    </tr>\n",
       "    <tr>\n",
       "      <th>70</th>\n",
       "      <td>1119</td>\n",
       "      <td>20211231</td>\n",
       "      <td>2021.0</td>\n",
       "      <td>INDL</td>\n",
       "      <td>C</td>\n",
       "      <td>D</td>\n",
       "      <td>STD</td>\n",
       "      <td>ADX</td>\n",
       "      <td>USD</td>\n",
       "      <td>NaN</td>\n",
       "      <td>A</td>\n",
       "      <td>NaN</td>\n",
       "      <td>NaN</td>\n",
       "      <td>NaN</td>\n",
       "      <td>NaN</td>\n",
       "      <td>NaN</td>\n",
       "    </tr>\n",
       "    <tr>\n",
       "      <th>...</th>\n",
       "      <td>...</td>\n",
       "      <td>...</td>\n",
       "      <td>...</td>\n",
       "      <td>...</td>\n",
       "      <td>...</td>\n",
       "      <td>...</td>\n",
       "      <td>...</td>\n",
       "      <td>...</td>\n",
       "      <td>...</td>\n",
       "      <td>...</td>\n",
       "      <td>...</td>\n",
       "      <td>...</td>\n",
       "      <td>...</td>\n",
       "      <td>...</td>\n",
       "      <td>...</td>\n",
       "      <td>...</td>\n",
       "    </tr>\n",
       "    <tr>\n",
       "      <th>56988</th>\n",
       "      <td>264686</td>\n",
       "      <td>20201231</td>\n",
       "      <td>2020.0</td>\n",
       "      <td>INDL</td>\n",
       "      <td>C</td>\n",
       "      <td>D</td>\n",
       "      <td>STD</td>\n",
       "      <td>UTF</td>\n",
       "      <td>USD</td>\n",
       "      <td>NaN</td>\n",
       "      <td>A</td>\n",
       "      <td>NaN</td>\n",
       "      <td>NaN</td>\n",
       "      <td>NaN</td>\n",
       "      <td>NaN</td>\n",
       "      <td>NaN</td>\n",
       "    </tr>\n",
       "    <tr>\n",
       "      <th>56989</th>\n",
       "      <td>264686</td>\n",
       "      <td>20211231</td>\n",
       "      <td>2021.0</td>\n",
       "      <td>INDL</td>\n",
       "      <td>C</td>\n",
       "      <td>D</td>\n",
       "      <td>STD</td>\n",
       "      <td>UTF</td>\n",
       "      <td>USD</td>\n",
       "      <td>NaN</td>\n",
       "      <td>A</td>\n",
       "      <td>NaN</td>\n",
       "      <td>NaN</td>\n",
       "      <td>NaN</td>\n",
       "      <td>NaN</td>\n",
       "      <td>NaN</td>\n",
       "    </tr>\n",
       "    <tr>\n",
       "      <th>57701</th>\n",
       "      <td>330942</td>\n",
       "      <td>20191231</td>\n",
       "      <td>2019.0</td>\n",
       "      <td>INDL</td>\n",
       "      <td>C</td>\n",
       "      <td>D</td>\n",
       "      <td>STD</td>\n",
       "      <td>BBUS</td>\n",
       "      <td>USD</td>\n",
       "      <td>NaN</td>\n",
       "      <td>A</td>\n",
       "      <td>NaN</td>\n",
       "      <td>NaN</td>\n",
       "      <td>NaN</td>\n",
       "      <td>NaN</td>\n",
       "      <td>NaN</td>\n",
       "    </tr>\n",
       "    <tr>\n",
       "      <th>57702</th>\n",
       "      <td>330942</td>\n",
       "      <td>20201231</td>\n",
       "      <td>2020.0</td>\n",
       "      <td>INDL</td>\n",
       "      <td>C</td>\n",
       "      <td>D</td>\n",
       "      <td>STD</td>\n",
       "      <td>BBUS</td>\n",
       "      <td>USD</td>\n",
       "      <td>NaN</td>\n",
       "      <td>A</td>\n",
       "      <td>NaN</td>\n",
       "      <td>NaN</td>\n",
       "      <td>NaN</td>\n",
       "      <td>NaN</td>\n",
       "      <td>NaN</td>\n",
       "    </tr>\n",
       "    <tr>\n",
       "      <th>57703</th>\n",
       "      <td>330942</td>\n",
       "      <td>20211231</td>\n",
       "      <td>2021.0</td>\n",
       "      <td>INDL</td>\n",
       "      <td>C</td>\n",
       "      <td>D</td>\n",
       "      <td>STD</td>\n",
       "      <td>BBUS</td>\n",
       "      <td>USD</td>\n",
       "      <td>NaN</td>\n",
       "      <td>A</td>\n",
       "      <td>NaN</td>\n",
       "      <td>NaN</td>\n",
       "      <td>NaN</td>\n",
       "      <td>NaN</td>\n",
       "      <td>NaN</td>\n",
       "    </tr>\n",
       "  </tbody>\n",
       "</table>\n",
       "<p>15635 rows × 16 columns</p>\n",
       "</div>"
      ],
      "text/plain": [
       "        gvkey  datadate   fyear indfmt consol popsrc datafmt   tic curcd  \\\n",
       "66       1119  20171231  2017.0   INDL      C      D     STD   ADX   USD   \n",
       "67       1119  20181231  2018.0   INDL      C      D     STD   ADX   USD   \n",
       "68       1119  20191231  2019.0   INDL      C      D     STD   ADX   USD   \n",
       "69       1119  20201231  2020.0   INDL      C      D     STD   ADX   USD   \n",
       "70       1119  20211231  2021.0   INDL      C      D     STD   ADX   USD   \n",
       "...       ...       ...     ...    ...    ...    ...     ...   ...   ...   \n",
       "56988  264686  20201231  2020.0   INDL      C      D     STD   UTF   USD   \n",
       "56989  264686  20211231  2021.0   INDL      C      D     STD   UTF   USD   \n",
       "57701  330942  20191231  2019.0   INDL      C      D     STD  BBUS   USD   \n",
       "57702  330942  20201231  2020.0   INDL      C      D     STD  BBUS   USD   \n",
       "57703  330942  20211231  2021.0   INDL      C      D     STD  BBUS   USD   \n",
       "\n",
       "       sale costat  mkvalt  ggroup  gind  gsector  gsubind  \n",
       "66      NaN      A     NaN     NaN   NaN      NaN      NaN  \n",
       "67      NaN      A     NaN     NaN   NaN      NaN      NaN  \n",
       "68      NaN      A     NaN     NaN   NaN      NaN      NaN  \n",
       "69      NaN      A     NaN     NaN   NaN      NaN      NaN  \n",
       "70      NaN      A     NaN     NaN   NaN      NaN      NaN  \n",
       "...     ...    ...     ...     ...   ...      ...      ...  \n",
       "56988   NaN      A     NaN     NaN   NaN      NaN      NaN  \n",
       "56989   NaN      A     NaN     NaN   NaN      NaN      NaN  \n",
       "57701   NaN      A     NaN     NaN   NaN      NaN      NaN  \n",
       "57702   NaN      A     NaN     NaN   NaN      NaN      NaN  \n",
       "57703   NaN      A     NaN     NaN   NaN      NaN      NaN  \n",
       "\n",
       "[15635 rows x 16 columns]"
      ]
     },
     "execution_count": 5,
     "metadata": {},
     "output_type": "execute_result"
    }
   ],
   "source": [
    "finstat[finstat['gsector'].isnull()]"
   ]
  },
  {
   "cell_type": "code",
   "execution_count": 6,
   "id": "5d7ba7bd",
   "metadata": {},
   "outputs": [
    {
     "data": {
      "text/html": [
       "<div>\n",
       "<style scoped>\n",
       "    .dataframe tbody tr th:only-of-type {\n",
       "        vertical-align: middle;\n",
       "    }\n",
       "\n",
       "    .dataframe tbody tr th {\n",
       "        vertical-align: top;\n",
       "    }\n",
       "\n",
       "    .dataframe thead th {\n",
       "        text-align: right;\n",
       "    }\n",
       "</style>\n",
       "<table border=\"1\" class=\"dataframe\">\n",
       "  <thead>\n",
       "    <tr style=\"text-align: right;\">\n",
       "      <th></th>\n",
       "      <th>gvkey</th>\n",
       "      <th>datadate</th>\n",
       "      <th>indfmt</th>\n",
       "      <th>consol</th>\n",
       "      <th>popsrc</th>\n",
       "      <th>datafmt</th>\n",
       "      <th>tic</th>\n",
       "      <th>curcd</th>\n",
       "      <th>sale</th>\n",
       "      <th>costat</th>\n",
       "      <th>mkvalt</th>\n",
       "      <th>ggroup</th>\n",
       "      <th>gind</th>\n",
       "      <th>gsector</th>\n",
       "      <th>gsubind</th>\n",
       "    </tr>\n",
       "    <tr>\n",
       "      <th>fyear</th>\n",
       "      <th></th>\n",
       "      <th></th>\n",
       "      <th></th>\n",
       "      <th></th>\n",
       "      <th></th>\n",
       "      <th></th>\n",
       "      <th></th>\n",
       "      <th></th>\n",
       "      <th></th>\n",
       "      <th></th>\n",
       "      <th></th>\n",
       "      <th></th>\n",
       "      <th></th>\n",
       "      <th></th>\n",
       "      <th></th>\n",
       "    </tr>\n",
       "  </thead>\n",
       "  <tbody>\n",
       "    <tr>\n",
       "      <th>2016.0</th>\n",
       "      <td>845</td>\n",
       "      <td>845</td>\n",
       "      <td>845</td>\n",
       "      <td>845</td>\n",
       "      <td>845</td>\n",
       "      <td>845</td>\n",
       "      <td>845</td>\n",
       "      <td>845</td>\n",
       "      <td>649</td>\n",
       "      <td>845</td>\n",
       "      <td>546</td>\n",
       "      <td>691</td>\n",
       "      <td>691</td>\n",
       "      <td>691</td>\n",
       "      <td>691</td>\n",
       "    </tr>\n",
       "    <tr>\n",
       "      <th>2017.0</th>\n",
       "      <td>10118</td>\n",
       "      <td>10118</td>\n",
       "      <td>10118</td>\n",
       "      <td>10118</td>\n",
       "      <td>10118</td>\n",
       "      <td>10118</td>\n",
       "      <td>10114</td>\n",
       "      <td>10118</td>\n",
       "      <td>6607</td>\n",
       "      <td>10118</td>\n",
       "      <td>5996</td>\n",
       "      <td>7673</td>\n",
       "      <td>7673</td>\n",
       "      <td>7673</td>\n",
       "      <td>7673</td>\n",
       "    </tr>\n",
       "    <tr>\n",
       "      <th>2018.0</th>\n",
       "      <td>10652</td>\n",
       "      <td>10652</td>\n",
       "      <td>10652</td>\n",
       "      <td>10652</td>\n",
       "      <td>10652</td>\n",
       "      <td>10652</td>\n",
       "      <td>10648</td>\n",
       "      <td>10652</td>\n",
       "      <td>6832</td>\n",
       "      <td>10652</td>\n",
       "      <td>6205</td>\n",
       "      <td>7930</td>\n",
       "      <td>7930</td>\n",
       "      <td>7930</td>\n",
       "      <td>7930</td>\n",
       "    </tr>\n",
       "    <tr>\n",
       "      <th>2019.0</th>\n",
       "      <td>11277</td>\n",
       "      <td>11277</td>\n",
       "      <td>11277</td>\n",
       "      <td>11277</td>\n",
       "      <td>11277</td>\n",
       "      <td>11277</td>\n",
       "      <td>11273</td>\n",
       "      <td>11277</td>\n",
       "      <td>7159</td>\n",
       "      <td>11277</td>\n",
       "      <td>6266</td>\n",
       "      <td>8309</td>\n",
       "      <td>8309</td>\n",
       "      <td>8309</td>\n",
       "      <td>8309</td>\n",
       "    </tr>\n",
       "    <tr>\n",
       "      <th>2020.0</th>\n",
       "      <td>11737</td>\n",
       "      <td>11737</td>\n",
       "      <td>11737</td>\n",
       "      <td>11737</td>\n",
       "      <td>11737</td>\n",
       "      <td>11737</td>\n",
       "      <td>11732</td>\n",
       "      <td>11737</td>\n",
       "      <td>7385</td>\n",
       "      <td>11737</td>\n",
       "      <td>6357</td>\n",
       "      <td>8446</td>\n",
       "      <td>8446</td>\n",
       "      <td>8446</td>\n",
       "      <td>8446</td>\n",
       "    </tr>\n",
       "    <tr>\n",
       "      <th>2021.0</th>\n",
       "      <td>12145</td>\n",
       "      <td>12145</td>\n",
       "      <td>12145</td>\n",
       "      <td>12145</td>\n",
       "      <td>12145</td>\n",
       "      <td>12145</td>\n",
       "      <td>12140</td>\n",
       "      <td>12145</td>\n",
       "      <td>7464</td>\n",
       "      <td>12145</td>\n",
       "      <td>7135</td>\n",
       "      <td>8351</td>\n",
       "      <td>8351</td>\n",
       "      <td>8351</td>\n",
       "      <td>8351</td>\n",
       "    </tr>\n",
       "    <tr>\n",
       "      <th>2022.0</th>\n",
       "      <td>965</td>\n",
       "      <td>965</td>\n",
       "      <td>965</td>\n",
       "      <td>965</td>\n",
       "      <td>965</td>\n",
       "      <td>965</td>\n",
       "      <td>965</td>\n",
       "      <td>965</td>\n",
       "      <td>652</td>\n",
       "      <td>965</td>\n",
       "      <td>636</td>\n",
       "      <td>706</td>\n",
       "      <td>706</td>\n",
       "      <td>706</td>\n",
       "      <td>706</td>\n",
       "    </tr>\n",
       "  </tbody>\n",
       "</table>\n",
       "</div>"
      ],
      "text/plain": [
       "        gvkey  datadate  indfmt  consol  popsrc  datafmt    tic  curcd  sale  \\\n",
       "fyear                                                                          \n",
       "2016.0    845       845     845     845     845      845    845    845   649   \n",
       "2017.0  10118     10118   10118   10118   10118    10118  10114  10118  6607   \n",
       "2018.0  10652     10652   10652   10652   10652    10652  10648  10652  6832   \n",
       "2019.0  11277     11277   11277   11277   11277    11277  11273  11277  7159   \n",
       "2020.0  11737     11737   11737   11737   11737    11737  11732  11737  7385   \n",
       "2021.0  12145     12145   12145   12145   12145    12145  12140  12145  7464   \n",
       "2022.0    965       965     965     965     965      965    965    965   652   \n",
       "\n",
       "        costat  mkvalt  ggroup  gind  gsector  gsubind  \n",
       "fyear                                                   \n",
       "2016.0     845     546     691   691      691      691  \n",
       "2017.0   10118    5996    7673  7673     7673     7673  \n",
       "2018.0   10652    6205    7930  7930     7930     7930  \n",
       "2019.0   11277    6266    8309  8309     8309     8309  \n",
       "2020.0   11737    6357    8446  8446     8446     8446  \n",
       "2021.0   12145    7135    8351  8351     8351     8351  \n",
       "2022.0     965     636     706   706      706      706  "
      ]
     },
     "execution_count": 6,
     "metadata": {},
     "output_type": "execute_result"
    }
   ],
   "source": [
    "finstat.groupby(['fyear']).count()"
   ]
  },
  {
   "cell_type": "code",
   "execution_count": 7,
   "id": "6f8388b7",
   "metadata": {},
   "outputs": [],
   "source": [
    "# drop 2022 and 2011 data and missing fyear data\n",
    "fintwl = finstat[finstat['fyear'].isin([2017, 2018, 2019, 2020, 2021])]\n",
    "fintwl = fintwl[~fintwl['fyear'].isnull()]"
   ]
  },
  {
   "cell_type": "code",
   "execution_count": 8,
   "id": "032c27c3",
   "metadata": {},
   "outputs": [
    {
     "data": {
      "text/plain": [
       "(55929, 16)"
      ]
     },
     "execution_count": 8,
     "metadata": {},
     "output_type": "execute_result"
    }
   ],
   "source": [
    "fintwl.shape"
   ]
  },
  {
   "cell_type": "code",
   "execution_count": 16,
   "id": "91554dd6",
   "metadata": {},
   "outputs": [],
   "source": [
    "# drop gsector missing data\n",
    "fintwl = fintwl[~fintwl['gsector'].isnull()]\n",
    "fintwl = fintwl[~fintwl['sale'].isnull()]"
   ]
  },
  {
   "cell_type": "code",
   "execution_count": 17,
   "id": "25133fdb",
   "metadata": {},
   "outputs": [
    {
     "name": "stdout",
     "output_type": "stream",
     "text": [
      "<class 'pandas.core.frame.DataFrame'>\n",
      "Int64Index: 35159 entries, 0 to 40707\n",
      "Data columns (total 16 columns):\n",
      " #   Column    Non-Null Count  Dtype  \n",
      "---  ------    --------------  -----  \n",
      " 0   gvkey     35159 non-null  int64  \n",
      " 1   datadate  35159 non-null  int64  \n",
      " 2   fyear     35159 non-null  float64\n",
      " 3   indfmt    35159 non-null  object \n",
      " 4   consol    35159 non-null  object \n",
      " 5   popsrc    35159 non-null  object \n",
      " 6   datafmt   35159 non-null  object \n",
      " 7   tic       35142 non-null  object \n",
      " 8   curcd     35159 non-null  object \n",
      " 9   sale      35159 non-null  float64\n",
      " 10  costat    35159 non-null  object \n",
      " 11  mkvalt    27967 non-null  float64\n",
      " 12  ggroup    35159 non-null  float64\n",
      " 13  gind      35159 non-null  float64\n",
      " 14  gsector   35159 non-null  float64\n",
      " 15  gsubind   35159 non-null  float64\n",
      "dtypes: float64(7), int64(2), object(7)\n",
      "memory usage: 4.6+ MB\n"
     ]
    }
   ],
   "source": [
    "fintwl.info()"
   ]
  },
  {
   "cell_type": "code",
   "execution_count": 18,
   "id": "b11547f4",
   "metadata": {},
   "outputs": [],
   "source": [
    "gvkey = fintwl['gvkey'].unique()"
   ]
  },
  {
   "cell_type": "code",
   "execution_count": 19,
   "id": "7b6d0f37",
   "metadata": {},
   "outputs": [
    {
     "data": {
      "text/plain": [
       "7882"
      ]
     },
     "execution_count": 19,
     "metadata": {},
     "output_type": "execute_result"
    }
   ],
   "source": [
    "len(gvkey)"
   ]
  },
  {
   "cell_type": "code",
   "execution_count": 20,
   "id": "85ff1d7e",
   "metadata": {},
   "outputs": [],
   "source": [
    "fintwl = fintwl.reset_index(drop=True)"
   ]
  },
  {
   "cell_type": "code",
   "execution_count": 21,
   "id": "71eb81fc",
   "metadata": {},
   "outputs": [
    {
     "data": {
      "text/plain": [
       "(35159, 16)"
      ]
     },
     "execution_count": 21,
     "metadata": {},
     "output_type": "execute_result"
    }
   ],
   "source": [
    "fintwl.shape"
   ]
  },
  {
   "cell_type": "code",
   "execution_count": 22,
   "id": "ce7f7224",
   "metadata": {},
   "outputs": [
    {
     "data": {
      "text/plain": [
       "(array([ 289.,    0.,  502.,    0.,    0.,  579.,    0.,  431.,    0.,\n",
       "        6081.]),\n",
       " array([1. , 1.4, 1.8, 2.2, 2.6, 3. , 3.4, 3.8, 4.2, 4.6, 5. ]),\n",
       " <BarContainer object of 10 artists>)"
      ]
     },
     "execution_count": 22,
     "metadata": {},
     "output_type": "execute_result"
    },
    {
     "data": {
      "image/png": "[encoded data removed]",
      "text/plain": [
       "<Figure size 432x288 with 1 Axes>"
      ]
     },
     "metadata": {
      "needs_background": "light"
     },
     "output_type": "display_data"
    }
   ],
   "source": [
    "plt.hist(fintwl.groupby('gvkey')['fyear'].count().values)"
   ]
  },
  {
   "cell_type": "code",
   "execution_count": 23,
   "id": "aeb1755c",
   "metadata": {},
   "outputs": [
    {
     "data": {
      "text/plain": [
       "(1801,)"
      ]
     },
     "execution_count": 23,
     "metadata": {},
     "output_type": "execute_result"
    }
   ],
   "source": [
    "gvkey[fintwl.groupby('gvkey')['fyear'].count().values != 5].shape"
   ]
  },
  {
   "cell_type": "code",
   "execution_count": 24,
   "id": "43320d81",
   "metadata": {},
   "outputs": [],
   "source": [
    "not_5report = gvkey[fintwl.groupby('gvkey')['fyear'].count().values != 5]"
   ]
  },
  {
   "cell_type": "code",
   "execution_count": 25,
   "id": "23b1b800",
   "metadata": {},
   "outputs": [],
   "source": [
    "# drop missing statement data \n",
    "fintwl = fintwl[~fintwl['gvkey'].isin(not_5report)]\n",
    "fintwl = fintwl.reset_index(drop=True)"
   ]
  },
  {
   "cell_type": "code",
   "execution_count": 26,
   "id": "04875e7a",
   "metadata": {},
   "outputs": [
    {
     "name": "stdout",
     "output_type": "stream",
     "text": [
      "<class 'pandas.core.frame.DataFrame'>\n",
      "RangeIndex: 30405 entries, 0 to 30404\n",
      "Data columns (total 16 columns):\n",
      " #   Column    Non-Null Count  Dtype  \n",
      "---  ------    --------------  -----  \n",
      " 0   gvkey     30405 non-null  int64  \n",
      " 1   datadate  30405 non-null  int64  \n",
      " 2   fyear     30405 non-null  float64\n",
      " 3   indfmt    30405 non-null  object \n",
      " 4   consol    30405 non-null  object \n",
      " 5   popsrc    30405 non-null  object \n",
      " 6   datafmt   30405 non-null  object \n",
      " 7   tic       30390 non-null  object \n",
      " 8   curcd     30405 non-null  object \n",
      " 9   sale      30405 non-null  float64\n",
      " 10  costat    30405 non-null  object \n",
      " 11  mkvalt    25301 non-null  float64\n",
      " 12  ggroup    30405 non-null  float64\n",
      " 13  gind      30405 non-null  float64\n",
      " 14  gsector   30405 non-null  float64\n",
      " 15  gsubind   30405 non-null  float64\n",
      "dtypes: float64(7), int64(2), object(7)\n",
      "memory usage: 3.7+ MB\n"
     ]
    }
   ],
   "source": [
    "fintwl.info()"
   ]
  },
  {
   "cell_type": "code",
   "execution_count": 27,
   "id": "fa7b1b5b",
   "metadata": {},
   "outputs": [
    {
     "data": {
      "text/plain": [
       "6081"
      ]
     },
     "execution_count": 27,
     "metadata": {},
     "output_type": "execute_result"
    }
   ],
   "source": [
    "fintwl['gvkey'].nunique()"
   ]
  },
  {
   "cell_type": "code",
   "execution_count": 28,
   "id": "a4d9ca8b",
   "metadata": {},
   "outputs": [
    {
     "data": {
      "text/plain": [
       "0.8454568107564452"
      ]
     },
     "execution_count": 28,
     "metadata": {},
     "output_type": "execute_result"
    }
   ],
   "source": [
    "fintwl[['sale', 'mkvalt']].corr(method='spearman').iloc[0, 1]"
   ]
  },
  {
   "cell_type": "markdown",
   "id": "1ff8fbad",
   "metadata": {},
   "source": [
    "### clean ceo wage"
   ]
  },
  {
   "cell_type": "code",
   "execution_count": 30,
   "id": "539d60ca",
   "metadata": {},
   "outputs": [
    {
     "name": "stdout",
     "output_type": "stream",
     "text": [
      "<class 'pandas.core.frame.DataFrame'>\n",
      "RangeIndex: 48216 entries, 0 to 48215\n",
      "Data columns (total 8 columns):\n",
      " #   Column         Non-Null Count  Dtype  \n",
      "---  ------         --------------  -----  \n",
      " 0   EXEC_FULLNAME  48216 non-null  object \n",
      " 1   CO_PER_ROL     48216 non-null  int64  \n",
      " 2   TDC1           46777 non-null  float64\n",
      " 3   GVKEY          48216 non-null  int64  \n",
      " 4   YEAR           48216 non-null  int64  \n",
      " 5   BECAMECEO      12432 non-null  float64\n",
      " 6   TITLE          46830 non-null  object \n",
      " 7   TICKER         48216 non-null  object \n",
      "dtypes: float64(2), int64(3), object(3)\n",
      "memory usage: 2.9+ MB\n"
     ]
    }
   ],
   "source": [
    "ceo.info()"
   ]
  },
  {
   "cell_type": "code",
   "execution_count": 31,
   "id": "b05c55a7",
   "metadata": {},
   "outputs": [],
   "source": [
    "ceocl = ceo[~ceo['GVKEY'].isin(not_5report)]\n",
    "ceocl = ceocl[ceocl['YEAR'].isin([2017, 2018, 2019, 2020, 2021])]"
   ]
  },
  {
   "cell_type": "code",
   "execution_count": 32,
   "id": "59daa870",
   "metadata": {},
   "outputs": [
    {
     "data": {
      "text/plain": [
       "(46805, 8)"
      ]
     },
     "execution_count": 32,
     "metadata": {},
     "output_type": "execute_result"
    }
   ],
   "source": [
    "ceocl.shape"
   ]
  },
  {
   "cell_type": "code",
   "execution_count": 33,
   "id": "f936e7ee",
   "metadata": {},
   "outputs": [
    {
     "data": {
      "text/html": [
       "<div>\n",
       "<style scoped>\n",
       "    .dataframe tbody tr th:only-of-type {\n",
       "        vertical-align: middle;\n",
       "    }\n",
       "\n",
       "    .dataframe tbody tr th {\n",
       "        vertical-align: top;\n",
       "    }\n",
       "\n",
       "    .dataframe thead th {\n",
       "        text-align: right;\n",
       "    }\n",
       "</style>\n",
       "<table border=\"1\" class=\"dataframe\">\n",
       "  <thead>\n",
       "    <tr style=\"text-align: right;\">\n",
       "      <th></th>\n",
       "      <th>EXEC_FULLNAME</th>\n",
       "      <th>CO_PER_ROL</th>\n",
       "      <th>TDC1</th>\n",
       "      <th>GVKEY</th>\n",
       "      <th>YEAR</th>\n",
       "      <th>BECAMECEO</th>\n",
       "      <th>TITLE</th>\n",
       "      <th>TICKER</th>\n",
       "    </tr>\n",
       "  </thead>\n",
       "  <tbody>\n",
       "    <tr>\n",
       "      <th>0</th>\n",
       "      <td>David P. Storch</td>\n",
       "      <td>5623</td>\n",
       "      <td>6283.565</td>\n",
       "      <td>1004</td>\n",
       "      <td>2017</td>\n",
       "      <td>19961009.0</td>\n",
       "      <td>Chairman &amp; CEO</td>\n",
       "      <td>AIR</td>\n",
       "    </tr>\n",
       "    <tr>\n",
       "      <th>1</th>\n",
       "      <td>Timothy J. Romenesko</td>\n",
       "      <td>5626</td>\n",
       "      <td>4139.249</td>\n",
       "      <td>1004</td>\n",
       "      <td>2017</td>\n",
       "      <td>NaN</td>\n",
       "      <td>Vice Chairman</td>\n",
       "      <td>AIR</td>\n",
       "    </tr>\n",
       "    <tr>\n",
       "      <th>2</th>\n",
       "      <td>Robert J. Regan</td>\n",
       "      <td>44350</td>\n",
       "      <td>1956.372</td>\n",
       "      <td>1004</td>\n",
       "      <td>2017</td>\n",
       "      <td>NaN</td>\n",
       "      <td>VP, General Counsel &amp; Secretary</td>\n",
       "      <td>AIR</td>\n",
       "    </tr>\n",
       "    <tr>\n",
       "      <th>3</th>\n",
       "      <td>John McClain Holmes, III</td>\n",
       "      <td>51547</td>\n",
       "      <td>3730.120</td>\n",
       "      <td>1004</td>\n",
       "      <td>2017</td>\n",
       "      <td>20180601.0</td>\n",
       "      <td>CEO, President &amp; Director</td>\n",
       "      <td>AIR</td>\n",
       "    </tr>\n",
       "    <tr>\n",
       "      <th>4</th>\n",
       "      <td>Eric S. Pachapa</td>\n",
       "      <td>55550</td>\n",
       "      <td>689.842</td>\n",
       "      <td>1004</td>\n",
       "      <td>2017</td>\n",
       "      <td>NaN</td>\n",
       "      <td>VP, Controller &amp; Chief Accounting Officer</td>\n",
       "      <td>AIR</td>\n",
       "    </tr>\n",
       "    <tr>\n",
       "      <th>...</th>\n",
       "      <td>...</td>\n",
       "      <td>...</td>\n",
       "      <td>...</td>\n",
       "      <td>...</td>\n",
       "      <td>...</td>\n",
       "      <td>...</td>\n",
       "      <td>...</td>\n",
       "      <td>...</td>\n",
       "    </tr>\n",
       "    <tr>\n",
       "      <th>48211</th>\n",
       "      <td>Reid S. Essl</td>\n",
       "      <td>62006</td>\n",
       "      <td>1326.729</td>\n",
       "      <td>328795</td>\n",
       "      <td>2021</td>\n",
       "      <td>NaN</td>\n",
       "      <td>Group President</td>\n",
       "      <td>ACA</td>\n",
       "    </tr>\n",
       "    <tr>\n",
       "      <th>48212</th>\n",
       "      <td>Kerry S. Cole</td>\n",
       "      <td>62007</td>\n",
       "      <td>1364.416</td>\n",
       "      <td>328795</td>\n",
       "      <td>2021</td>\n",
       "      <td>NaN</td>\n",
       "      <td>Group President</td>\n",
       "      <td>ACA</td>\n",
       "    </tr>\n",
       "    <tr>\n",
       "      <th>48213</th>\n",
       "      <td>Jesse E. Collins, Jr.</td>\n",
       "      <td>62008</td>\n",
       "      <td>1148.920</td>\n",
       "      <td>328795</td>\n",
       "      <td>2021</td>\n",
       "      <td>NaN</td>\n",
       "      <td>Group President</td>\n",
       "      <td>ACA</td>\n",
       "    </tr>\n",
       "    <tr>\n",
       "      <th>48214</th>\n",
       "      <td>Bryan P. Stevenson</td>\n",
       "      <td>64110</td>\n",
       "      <td>1113.560</td>\n",
       "      <td>328795</td>\n",
       "      <td>2021</td>\n",
       "      <td>NaN</td>\n",
       "      <td>Chief Legal Officer</td>\n",
       "      <td>ACA</td>\n",
       "    </tr>\n",
       "    <tr>\n",
       "      <th>48215</th>\n",
       "      <td>Gail M. Peck</td>\n",
       "      <td>67855</td>\n",
       "      <td>1035.403</td>\n",
       "      <td>328795</td>\n",
       "      <td>2021</td>\n",
       "      <td>NaN</td>\n",
       "      <td>Chief Financial Officer</td>\n",
       "      <td>ACA</td>\n",
       "    </tr>\n",
       "  </tbody>\n",
       "</table>\n",
       "<p>46805 rows × 8 columns</p>\n",
       "</div>"
      ],
      "text/plain": [
       "                  EXEC_FULLNAME  CO_PER_ROL      TDC1   GVKEY  YEAR  \\\n",
       "0               David P. Storch        5623  6283.565    1004  2017   \n",
       "1          Timothy J. Romenesko        5626  4139.249    1004  2017   \n",
       "2               Robert J. Regan       44350  1956.372    1004  2017   \n",
       "3      John McClain Holmes, III       51547  3730.120    1004  2017   \n",
       "4               Eric S. Pachapa       55550   689.842    1004  2017   \n",
       "...                         ...         ...       ...     ...   ...   \n",
       "48211              Reid S. Essl       62006  1326.729  328795  2021   \n",
       "48212             Kerry S. Cole       62007  1364.416  328795  2021   \n",
       "48213     Jesse E. Collins, Jr.       62008  1148.920  328795  2021   \n",
       "48214        Bryan P. Stevenson       64110  1113.560  328795  2021   \n",
       "48215              Gail M. Peck       67855  1035.403  328795  2021   \n",
       "\n",
       "        BECAMECEO                                      TITLE TICKER  \n",
       "0      19961009.0                             Chairman & CEO    AIR  \n",
       "1             NaN                              Vice Chairman    AIR  \n",
       "2             NaN            VP, General Counsel & Secretary    AIR  \n",
       "3      20180601.0                  CEO, President & Director    AIR  \n",
       "4             NaN  VP, Controller & Chief Accounting Officer    AIR  \n",
       "...           ...                                        ...    ...  \n",
       "48211         NaN                            Group President    ACA  \n",
       "48212         NaN                            Group President    ACA  \n",
       "48213         NaN                            Group President    ACA  \n",
       "48214         NaN                        Chief Legal Officer    ACA  \n",
       "48215         NaN                    Chief Financial Officer    ACA  \n",
       "\n",
       "[46805 rows x 8 columns]"
      ]
     },
     "execution_count": 33,
     "metadata": {},
     "output_type": "execute_result"
    }
   ],
   "source": [
    "ceocl"
   ]
  },
  {
   "cell_type": "code",
   "execution_count": null,
   "id": "c9c03e35",
   "metadata": {},
   "outputs": [],
   "source": [
    "# ceocl = ceocl[ceocl['TITLE'].str.contains('Chief Executive Officer|CEO', na=False)]"
   ]
  },
  {
   "cell_type": "code",
   "execution_count": 34,
   "id": "7807ad4b",
   "metadata": {},
   "outputs": [],
   "source": [
    "ceocl = ceocl[~ceocl['TDC1'].isnull()]"
   ]
  },
  {
   "cell_type": "code",
   "execution_count": 35,
   "id": "84add306",
   "metadata": {},
   "outputs": [],
   "source": [
    "ceocl = ceocl.reset_index(drop=True)"
   ]
  },
  {
   "cell_type": "code",
   "execution_count": 36,
   "id": "62fc9d28",
   "metadata": {},
   "outputs": [
    {
     "data": {
      "text/plain": [
       "1921"
      ]
     },
     "execution_count": 36,
     "metadata": {},
     "output_type": "execute_result"
    }
   ],
   "source": [
    "ceocl['GVKEY'].nunique()"
   ]
  },
  {
   "cell_type": "code",
   "execution_count": null,
   "id": "87420c40",
   "metadata": {},
   "outputs": [],
   "source": [
    "ceocl.info()"
   ]
  },
  {
   "cell_type": "code",
   "execution_count": null,
   "id": "098912bc",
   "metadata": {},
   "outputs": [],
   "source": [
    "# ceocl = ceocl.sort_values(by=['GVKEY', 'YEAR', 'TDC1'], ascending=[True, True, False])"
   ]
  },
  {
   "cell_type": "code",
   "execution_count": null,
   "id": "a77f5b7e",
   "metadata": {},
   "outputs": [],
   "source": [
    "# ceo = ceocl.groupby(['GVKEY', 'YEAR']).first()"
   ]
  },
  {
   "cell_type": "code",
   "execution_count": null,
   "id": "9b797f79",
   "metadata": {},
   "outputs": [],
   "source": [
    "# ceo = ceo.reset_index()"
   ]
  },
  {
   "cell_type": "code",
   "execution_count": 37,
   "id": "4f2ead53",
   "metadata": {},
   "outputs": [],
   "source": [
    "ceo_gv = ceocl['GVKEY'].unique()"
   ]
  },
  {
   "cell_type": "code",
   "execution_count": 38,
   "id": "b773a51e",
   "metadata": {},
   "outputs": [
    {
     "data": {
      "text/plain": [
       "1921"
      ]
     },
     "execution_count": 38,
     "metadata": {},
     "output_type": "execute_result"
    }
   ],
   "source": [
    "len(ceo_gv)"
   ]
  },
  {
   "cell_type": "code",
   "execution_count": 39,
   "id": "bb3ad8c6",
   "metadata": {},
   "outputs": [],
   "source": [
    "tdc_count = ceocl.groupby('GVKEY')['YEAR'].nunique()"
   ]
  },
  {
   "cell_type": "code",
   "execution_count": 40,
   "id": "26de9e2d",
   "metadata": {},
   "outputs": [
    {
     "data": {
      "text/plain": [
       "(array([  85.,    0.,   75.,    0.,    0.,   48.,    0.,   77.,    0.,\n",
       "        1636.]),\n",
       " array([1. , 1.4, 1.8, 2.2, 2.6, 3. , 3.4, 3.8, 4.2, 4.6, 5. ]),\n",
       " <BarContainer object of 10 artists>)"
      ]
     },
     "execution_count": 40,
     "metadata": {},
     "output_type": "execute_result"
    },
    {
     "data": {
      "image/png": "[encoded data removed]",
      "text/plain": [
       "<Figure size 432x288 with 1 Axes>"
      ]
     },
     "metadata": {
      "needs_background": "light"
     },
     "output_type": "display_data"
    }
   ],
   "source": [
    "plt.hist(tdc_count.values)"
   ]
  },
  {
   "cell_type": "code",
   "execution_count": 41,
   "id": "00417b3a",
   "metadata": {},
   "outputs": [],
   "source": [
    "not_5tdc = ceo_gv[tdc_count.values < 5]"
   ]
  },
  {
   "cell_type": "code",
   "execution_count": 42,
   "id": "89f9ecf3",
   "metadata": {},
   "outputs": [
    {
     "data": {
      "text/plain": [
       "array([  1072,   1094,   1177,   1633,   1920,   1976,   2154,   2393,\n",
       "         2940,   2942,   3036,   3087,   3310,   3502,   3639,   3707,\n",
       "         3918,   4072,   4094,   4201,   4274,   4351,   4460,   4523,\n",
       "         5250,   5379,   5671,   5697,   5918,   5978,   6003,   6081,\n",
       "         6116,   6196,   6334,   6351,   6532,   6574,   6845,   6900,\n",
       "         7316,   7346,   7682,   7912,   8240,   8579,   8789,   8815,\n",
       "         8958,   8972,   9445,   9472,   9589,   9835,  10187,  10190,\n",
       "        10466,  10631,  10726,  10816,  10981,  10984,  11115,  11296,\n",
       "        11340,  11896,  11923,  12171,  12215,  12234,  12250,  12403,\n",
       "        12413,  12796,  12886,  13142,  13189,  13241,  13282,  13375,\n",
       "        13427,  13599,  13646,  13782,  13800,  13839,  14304,  14412,\n",
       "        15197,  16531,  16878,  17074,  17130,  17239,  17586,  18291,\n",
       "        19352,  19906,  20204,  20423,  21047,  21232,  21326,  21739,\n",
       "        21816,  22325,  22343,  23002,  23220,  23697,  23821,  23988,\n",
       "        23996,  24318,  24415,  24544,  24704,  24878,  24888,  25056,\n",
       "        25157,  25167,  25186,  25356,  25357,  25405,  25495,  25509,\n",
       "        25774,  25848,  25874,  25950,  26012,  26021,  26037,  26061,\n",
       "        26351,  26368,  26709,  27215,  27800,  27802,  27845,  28069,\n",
       "        28119,  28303,  28477,  28564,  28853,  28924,  29150,  29173,\n",
       "        29211,  29565,  29722,  29734,  29819,  29835,  29968,  30146,\n",
       "        30231,  30354,  30888,  30962,  31227,  31578,  31692,  31802,\n",
       "        31958,  32751,  33439,  33750,  33951,  34053,  34443,  34562,\n",
       "        34636,  34765,  34854,  35035,  35168,  35447,  35614,  35638,\n",
       "        35642,  35684,  35794,  61350,  61439,  61745,  62263,  62494,\n",
       "        62655,  62732,  63099,  63123,  63135,  63196,  63501,  63525,\n",
       "        63667,  63724,  63763,  63789,  64410,  64480,  64552,  64942,\n",
       "        65220,  65459,  65556,  65872,  65967,  66599, 109926, 110065,\n",
       "       111064, 113419, 117161, 120297, 120824, 121673, 122078, 122841,\n",
       "       124254, 124358, 126417, 127094, 129840, 133504, 133944, 138608,\n",
       "       138861, 140760, 144066, 150699, 154357, 157353, 158473, 161953,\n",
       "       162386, 162459, 162733, 162876, 163878, 164132, 164609, 164680,\n",
       "       165675, 166230, 174222, 174313, 174567, 175376, 176268, 176351,\n",
       "       176592, 176782, 177099, 177871, 177884, 178201, 178798, 178870,\n",
       "       179441, 179666, 179700, 179957, 180167, 180395, 180635, 182308,\n",
       "       183963, 184009, 185177, 186336, 187041, 187105, 187128, 189579,\n",
       "       260778, 264387, 264397, 264414, 266257], dtype=int64)"
      ]
     },
     "execution_count": 42,
     "metadata": {},
     "output_type": "execute_result"
    }
   ],
   "source": [
    "not_5tdc"
   ]
  },
  {
   "cell_type": "code",
   "execution_count": 43,
   "id": "eb424e49",
   "metadata": {},
   "outputs": [],
   "source": [
    "ceocl = ceocl[~ceocl['GVKEY'].isin(not_5tdc)].reset_index(drop=True)"
   ]
  },
  {
   "cell_type": "code",
   "execution_count": 44,
   "id": "94211d77",
   "metadata": {},
   "outputs": [],
   "source": [
    "last_gv = ceocl['GVKEY'].unique()"
   ]
  },
  {
   "cell_type": "code",
   "execution_count": 47,
   "id": "c34f9157",
   "metadata": {},
   "outputs": [],
   "source": [
    "year = np.arange(2017, 2022, 1)"
   ]
  },
  {
   "cell_type": "code",
   "execution_count": 48,
   "id": "57f295a2",
   "metadata": {},
   "outputs": [
    {
     "data": {
      "text/plain": [
       "array([2017, 2018, 2019, 2020, 2021])"
      ]
     },
     "execution_count": 48,
     "metadata": {},
     "output_type": "execute_result"
    }
   ],
   "source": [
    "year"
   ]
  },
  {
   "cell_type": "code",
   "execution_count": 49,
   "id": "129d7f3b",
   "metadata": {},
   "outputs": [],
   "source": [
    "manager = ceocl.groupby(['GVKEY', 'YEAR'])['TDC1'].mean().reset_index()"
   ]
  },
  {
   "cell_type": "code",
   "execution_count": 50,
   "id": "024f7f13",
   "metadata": {},
   "outputs": [
    {
     "data": {
      "text/html": [
       "<div>\n",
       "<style scoped>\n",
       "    .dataframe tbody tr th:only-of-type {\n",
       "        vertical-align: middle;\n",
       "    }\n",
       "\n",
       "    .dataframe tbody tr th {\n",
       "        vertical-align: top;\n",
       "    }\n",
       "\n",
       "    .dataframe thead th {\n",
       "        text-align: right;\n",
       "    }\n",
       "</style>\n",
       "<table border=\"1\" class=\"dataframe\">\n",
       "  <thead>\n",
       "    <tr style=\"text-align: right;\">\n",
       "      <th></th>\n",
       "      <th>GVKEY</th>\n",
       "      <th>YEAR</th>\n",
       "      <th>TDC1</th>\n",
       "    </tr>\n",
       "  </thead>\n",
       "  <tbody>\n",
       "    <tr>\n",
       "      <th>0</th>\n",
       "      <td>1004</td>\n",
       "      <td>2017</td>\n",
       "      <td>2991.587667</td>\n",
       "    </tr>\n",
       "    <tr>\n",
       "      <th>1</th>\n",
       "      <td>1004</td>\n",
       "      <td>2018</td>\n",
       "      <td>1613.066400</td>\n",
       "    </tr>\n",
       "    <tr>\n",
       "      <th>2</th>\n",
       "      <td>1004</td>\n",
       "      <td>2019</td>\n",
       "      <td>1705.842833</td>\n",
       "    </tr>\n",
       "    <tr>\n",
       "      <th>3</th>\n",
       "      <td>1004</td>\n",
       "      <td>2020</td>\n",
       "      <td>2031.947600</td>\n",
       "    </tr>\n",
       "    <tr>\n",
       "      <th>4</th>\n",
       "      <td>1004</td>\n",
       "      <td>2021</td>\n",
       "      <td>3900.146200</td>\n",
       "    </tr>\n",
       "    <tr>\n",
       "      <th>...</th>\n",
       "      <td>...</td>\n",
       "      <td>...</td>\n",
       "      <td>...</td>\n",
       "    </tr>\n",
       "    <tr>\n",
       "      <th>8175</th>\n",
       "      <td>328795</td>\n",
       "      <td>2017</td>\n",
       "      <td>524.056000</td>\n",
       "    </tr>\n",
       "    <tr>\n",
       "      <th>8176</th>\n",
       "      <td>328795</td>\n",
       "      <td>2018</td>\n",
       "      <td>753.056200</td>\n",
       "    </tr>\n",
       "    <tr>\n",
       "      <th>8177</th>\n",
       "      <td>328795</td>\n",
       "      <td>2019</td>\n",
       "      <td>1875.520667</td>\n",
       "    </tr>\n",
       "    <tr>\n",
       "      <th>8178</th>\n",
       "      <td>328795</td>\n",
       "      <td>2020</td>\n",
       "      <td>1925.096667</td>\n",
       "    </tr>\n",
       "    <tr>\n",
       "      <th>8179</th>\n",
       "      <td>328795</td>\n",
       "      <td>2021</td>\n",
       "      <td>1802.732000</td>\n",
       "    </tr>\n",
       "  </tbody>\n",
       "</table>\n",
       "<p>8180 rows × 3 columns</p>\n",
       "</div>"
      ],
      "text/plain": [
       "       GVKEY  YEAR         TDC1\n",
       "0       1004  2017  2991.587667\n",
       "1       1004  2018  1613.066400\n",
       "2       1004  2019  1705.842833\n",
       "3       1004  2020  2031.947600\n",
       "4       1004  2021  3900.146200\n",
       "...      ...   ...          ...\n",
       "8175  328795  2017   524.056000\n",
       "8176  328795  2018   753.056200\n",
       "8177  328795  2019  1875.520667\n",
       "8178  328795  2020  1925.096667\n",
       "8179  328795  2021  1802.732000\n",
       "\n",
       "[8180 rows x 3 columns]"
      ]
     },
     "execution_count": 50,
     "metadata": {},
     "output_type": "execute_result"
    }
   ],
   "source": [
    "manager"
   ]
  },
  {
   "cell_type": "code",
   "execution_count": 51,
   "id": "a0cccf16",
   "metadata": {},
   "outputs": [],
   "source": [
    "fintwl = fintwl[fintwl['gvkey'].isin(last_gv)]\n",
    "fintwl = fintwl.reset_index(drop=True)"
   ]
  },
  {
   "cell_type": "code",
   "execution_count": 55,
   "id": "584a69a9",
   "metadata": {},
   "outputs": [
    {
     "data": {
      "text/plain": [
       "(1590, 1636)"
      ]
     },
     "execution_count": 55,
     "metadata": {},
     "output_type": "execute_result"
    }
   ],
   "source": [
    "fintwl['gvkey'].nunique(), manager['GVKEY'].nunique()"
   ]
  },
  {
   "cell_type": "code",
   "execution_count": 56,
   "id": "c7666d8d",
   "metadata": {},
   "outputs": [],
   "source": [
    "manager = manager[manager['GVKEY'].isin(fintwl['gvkey'].unique())]"
   ]
  },
  {
   "cell_type": "code",
   "execution_count": 57,
   "id": "80d79597",
   "metadata": {},
   "outputs": [
    {
     "data": {
      "text/plain": [
       "(1590, 1590)"
      ]
     },
     "execution_count": 57,
     "metadata": {},
     "output_type": "execute_result"
    }
   ],
   "source": [
    "fintwl['gvkey'].nunique(), manager['GVKEY'].nunique()"
   ]
  },
  {
   "cell_type": "code",
   "execution_count": 58,
   "id": "e78c2433",
   "metadata": {},
   "outputs": [
    {
     "name": "stdout",
     "output_type": "stream",
     "text": [
      "<class 'pandas.core.frame.DataFrame'>\n",
      "RangeIndex: 7950 entries, 0 to 7949\n",
      "Data columns (total 16 columns):\n",
      " #   Column    Non-Null Count  Dtype  \n",
      "---  ------    --------------  -----  \n",
      " 0   gvkey     7950 non-null   int64  \n",
      " 1   datadate  7950 non-null   int64  \n",
      " 2   fyear     7950 non-null   float64\n",
      " 3   indfmt    7950 non-null   object \n",
      " 4   consol    7950 non-null   object \n",
      " 5   popsrc    7950 non-null   object \n",
      " 6   datafmt   7950 non-null   object \n",
      " 7   tic       7950 non-null   object \n",
      " 8   curcd     7950 non-null   object \n",
      " 9   sale      7950 non-null   float64\n",
      " 10  costat    7950 non-null   object \n",
      " 11  mkvalt    7560 non-null   float64\n",
      " 12  ggroup    7950 non-null   float64\n",
      " 13  gind      7950 non-null   float64\n",
      " 14  gsector   7950 non-null   float64\n",
      " 15  gsubind   7950 non-null   float64\n",
      "dtypes: float64(7), int64(2), object(7)\n",
      "memory usage: 993.9+ KB\n"
     ]
    }
   ],
   "source": [
    "fintwl.info()"
   ]
  },
  {
   "cell_type": "code",
   "execution_count": 59,
   "id": "7d08f67f",
   "metadata": {},
   "outputs": [],
   "source": [
    "fintwl = fintwl.fillna(0)"
   ]
  },
  {
   "cell_type": "code",
   "execution_count": 60,
   "id": "fd44b063",
   "metadata": {},
   "outputs": [],
   "source": [
    "manager.columns = manager.columns.str.lower()"
   ]
  },
  {
   "cell_type": "code",
   "execution_count": 61,
   "id": "551fdf74",
   "metadata": {},
   "outputs": [],
   "source": [
    "fintwl = fintwl.rename(columns={\"fyear\": \"year\"})"
   ]
  },
  {
   "cell_type": "code",
   "execution_count": 62,
   "id": "766e4186",
   "metadata": {},
   "outputs": [],
   "source": [
    "fintwl['year'] = fintwl['year'].astype(np.int64)"
   ]
  },
  {
   "cell_type": "code",
   "execution_count": 63,
   "id": "34bb27b7",
   "metadata": {},
   "outputs": [
    {
     "name": "stdout",
     "output_type": "stream",
     "text": [
      "<class 'pandas.core.frame.DataFrame'>\n",
      "RangeIndex: 7950 entries, 0 to 7949\n",
      "Data columns (total 16 columns):\n",
      " #   Column    Non-Null Count  Dtype  \n",
      "---  ------    --------------  -----  \n",
      " 0   gvkey     7950 non-null   int64  \n",
      " 1   datadate  7950 non-null   int64  \n",
      " 2   year      7950 non-null   int64  \n",
      " 3   indfmt    7950 non-null   object \n",
      " 4   consol    7950 non-null   object \n",
      " 5   popsrc    7950 non-null   object \n",
      " 6   datafmt   7950 non-null   object \n",
      " 7   tic       7950 non-null   object \n",
      " 8   curcd     7950 non-null   object \n",
      " 9   sale      7950 non-null   float64\n",
      " 10  costat    7950 non-null   object \n",
      " 11  mkvalt    7950 non-null   float64\n",
      " 12  ggroup    7950 non-null   float64\n",
      " 13  gind      7950 non-null   float64\n",
      " 14  gsector   7950 non-null   float64\n",
      " 15  gsubind   7950 non-null   float64\n",
      "dtypes: float64(6), int64(3), object(7)\n",
      "memory usage: 993.9+ KB\n"
     ]
    }
   ],
   "source": [
    "fintwl.info()"
   ]
  },
  {
   "cell_type": "code",
   "execution_count": 64,
   "id": "2f44f291",
   "metadata": {},
   "outputs": [
    {
     "name": "stdout",
     "output_type": "stream",
     "text": [
      "<class 'pandas.core.frame.DataFrame'>\n",
      "Int64Index: 7950 entries, 0 to 8179\n",
      "Data columns (total 3 columns):\n",
      " #   Column  Non-Null Count  Dtype  \n",
      "---  ------  --------------  -----  \n",
      " 0   gvkey   7950 non-null   int64  \n",
      " 1   year    7950 non-null   int64  \n",
      " 2   tdc1    7950 non-null   float64\n",
      "dtypes: float64(1), int64(2)\n",
      "memory usage: 248.4 KB\n"
     ]
    }
   ],
   "source": [
    "manager.info()"
   ]
  },
  {
   "cell_type": "code",
   "execution_count": 65,
   "id": "edc20f40",
   "metadata": {},
   "outputs": [
    {
     "data": {
      "text/plain": [
       "(1590,)"
      ]
     },
     "execution_count": 65,
     "metadata": {},
     "output_type": "execute_result"
    }
   ],
   "source": [
    "fintwl['gvkey'].unique().shape"
   ]
  },
  {
   "cell_type": "code",
   "execution_count": 66,
   "id": "7d2c0ce8",
   "metadata": {},
   "outputs": [
    {
     "data": {
      "text/plain": [
       "(1590,)"
      ]
     },
     "execution_count": 66,
     "metadata": {},
     "output_type": "execute_result"
    }
   ],
   "source": [
    "manager['gvkey'].unique().shape"
   ]
  },
  {
   "cell_type": "code",
   "execution_count": 67,
   "id": "a6e59bfe",
   "metadata": {},
   "outputs": [
    {
     "data": {
      "text/plain": [
       "array([2017, 2018, 2019, 2020, 2021], dtype=int64)"
      ]
     },
     "execution_count": 67,
     "metadata": {},
     "output_type": "execute_result"
    }
   ],
   "source": [
    "manager['year'].unique()"
   ]
  },
  {
   "cell_type": "code",
   "execution_count": 68,
   "id": "6c80fdf4",
   "metadata": {},
   "outputs": [
    {
     "data": {
      "text/plain": [
       "(5,)"
      ]
     },
     "execution_count": 68,
     "metadata": {},
     "output_type": "execute_result"
    }
   ],
   "source": [
    "fintwl['year'].unique().shape"
   ]
  },
  {
   "cell_type": "code",
   "execution_count": 69,
   "id": "6a793c94",
   "metadata": {},
   "outputs": [
    {
     "data": {
      "text/html": [
       "<div>\n",
       "<style scoped>\n",
       "    .dataframe tbody tr th:only-of-type {\n",
       "        vertical-align: middle;\n",
       "    }\n",
       "\n",
       "    .dataframe tbody tr th {\n",
       "        vertical-align: top;\n",
       "    }\n",
       "\n",
       "    .dataframe thead th {\n",
       "        text-align: right;\n",
       "    }\n",
       "</style>\n",
       "<table border=\"1\" class=\"dataframe\">\n",
       "  <thead>\n",
       "    <tr style=\"text-align: right;\">\n",
       "      <th></th>\n",
       "      <th>gvkey</th>\n",
       "      <th>datadate</th>\n",
       "      <th>year</th>\n",
       "      <th>indfmt</th>\n",
       "      <th>consol</th>\n",
       "      <th>popsrc</th>\n",
       "      <th>datafmt</th>\n",
       "      <th>tic</th>\n",
       "      <th>curcd</th>\n",
       "      <th>sale</th>\n",
       "      <th>costat</th>\n",
       "      <th>mkvalt</th>\n",
       "      <th>ggroup</th>\n",
       "      <th>gind</th>\n",
       "      <th>gsector</th>\n",
       "      <th>gsubind</th>\n",
       "    </tr>\n",
       "  </thead>\n",
       "  <tbody>\n",
       "    <tr>\n",
       "      <th>0</th>\n",
       "      <td>1004</td>\n",
       "      <td>20180531</td>\n",
       "      <td>2017</td>\n",
       "      <td>INDL</td>\n",
       "      <td>C</td>\n",
       "      <td>D</td>\n",
       "      <td>STD</td>\n",
       "      <td>AIR</td>\n",
       "      <td>USD</td>\n",
       "      <td>1748.3</td>\n",
       "      <td>A</td>\n",
       "      <td>1551.4580</td>\n",
       "      <td>2010.0</td>\n",
       "      <td>201010.0</td>\n",
       "      <td>20.0</td>\n",
       "      <td>20101010.0</td>\n",
       "    </tr>\n",
       "    <tr>\n",
       "      <th>1</th>\n",
       "      <td>1004</td>\n",
       "      <td>20190531</td>\n",
       "      <td>2018</td>\n",
       "      <td>INDL</td>\n",
       "      <td>C</td>\n",
       "      <td>D</td>\n",
       "      <td>STD</td>\n",
       "      <td>AIR</td>\n",
       "      <td>USD</td>\n",
       "      <td>2051.8</td>\n",
       "      <td>A</td>\n",
       "      <td>1046.7709</td>\n",
       "      <td>2010.0</td>\n",
       "      <td>201010.0</td>\n",
       "      <td>20.0</td>\n",
       "      <td>20101010.0</td>\n",
       "    </tr>\n",
       "    <tr>\n",
       "      <th>2</th>\n",
       "      <td>1004</td>\n",
       "      <td>20200531</td>\n",
       "      <td>2019</td>\n",
       "      <td>INDL</td>\n",
       "      <td>C</td>\n",
       "      <td>D</td>\n",
       "      <td>STD</td>\n",
       "      <td>AIR</td>\n",
       "      <td>USD</td>\n",
       "      <td>2089.3</td>\n",
       "      <td>A</td>\n",
       "      <td>707.9065</td>\n",
       "      <td>2010.0</td>\n",
       "      <td>201010.0</td>\n",
       "      <td>20.0</td>\n",
       "      <td>20101010.0</td>\n",
       "    </tr>\n",
       "    <tr>\n",
       "      <th>3</th>\n",
       "      <td>1004</td>\n",
       "      <td>20210531</td>\n",
       "      <td>2020</td>\n",
       "      <td>INDL</td>\n",
       "      <td>C</td>\n",
       "      <td>D</td>\n",
       "      <td>STD</td>\n",
       "      <td>AIR</td>\n",
       "      <td>USD</td>\n",
       "      <td>1651.4</td>\n",
       "      <td>A</td>\n",
       "      <td>1476.9063</td>\n",
       "      <td>2010.0</td>\n",
       "      <td>201010.0</td>\n",
       "      <td>20.0</td>\n",
       "      <td>20101010.0</td>\n",
       "    </tr>\n",
       "    <tr>\n",
       "      <th>4</th>\n",
       "      <td>1004</td>\n",
       "      <td>20220531</td>\n",
       "      <td>2021</td>\n",
       "      <td>INDL</td>\n",
       "      <td>C</td>\n",
       "      <td>D</td>\n",
       "      <td>STD</td>\n",
       "      <td>AIR</td>\n",
       "      <td>USD</td>\n",
       "      <td>1817.1</td>\n",
       "      <td>A</td>\n",
       "      <td>1706.5540</td>\n",
       "      <td>2010.0</td>\n",
       "      <td>201010.0</td>\n",
       "      <td>20.0</td>\n",
       "      <td>20101010.0</td>\n",
       "    </tr>\n",
       "  </tbody>\n",
       "</table>\n",
       "</div>"
      ],
      "text/plain": [
       "   gvkey  datadate  year indfmt consol popsrc datafmt  tic curcd    sale  \\\n",
       "0   1004  20180531  2017   INDL      C      D     STD  AIR   USD  1748.3   \n",
       "1   1004  20190531  2018   INDL      C      D     STD  AIR   USD  2051.8   \n",
       "2   1004  20200531  2019   INDL      C      D     STD  AIR   USD  2089.3   \n",
       "3   1004  20210531  2020   INDL      C      D     STD  AIR   USD  1651.4   \n",
       "4   1004  20220531  2021   INDL      C      D     STD  AIR   USD  1817.1   \n",
       "\n",
       "  costat     mkvalt  ggroup      gind  gsector     gsubind  \n",
       "0      A  1551.4580  2010.0  201010.0     20.0  20101010.0  \n",
       "1      A  1046.7709  2010.0  201010.0     20.0  20101010.0  \n",
       "2      A   707.9065  2010.0  201010.0     20.0  20101010.0  \n",
       "3      A  1476.9063  2010.0  201010.0     20.0  20101010.0  \n",
       "4      A  1706.5540  2010.0  201010.0     20.0  20101010.0  "
      ]
     },
     "execution_count": 69,
     "metadata": {},
     "output_type": "execute_result"
    }
   ],
   "source": [
    "fintwl.head()"
   ]
  },
  {
   "cell_type": "code",
   "execution_count": 70,
   "id": "dd6593b2",
   "metadata": {},
   "outputs": [
    {
     "data": {
      "text/html": [
       "<div>\n",
       "<style scoped>\n",
       "    .dataframe tbody tr th:only-of-type {\n",
       "        vertical-align: middle;\n",
       "    }\n",
       "\n",
       "    .dataframe tbody tr th {\n",
       "        vertical-align: top;\n",
       "    }\n",
       "\n",
       "    .dataframe thead th {\n",
       "        text-align: right;\n",
       "    }\n",
       "</style>\n",
       "<table border=\"1\" class=\"dataframe\">\n",
       "  <thead>\n",
       "    <tr style=\"text-align: right;\">\n",
       "      <th></th>\n",
       "      <th>gvkey</th>\n",
       "      <th>year</th>\n",
       "      <th>tdc1</th>\n",
       "    </tr>\n",
       "  </thead>\n",
       "  <tbody>\n",
       "    <tr>\n",
       "      <th>0</th>\n",
       "      <td>1004</td>\n",
       "      <td>2017</td>\n",
       "      <td>2991.587667</td>\n",
       "    </tr>\n",
       "    <tr>\n",
       "      <th>1</th>\n",
       "      <td>1004</td>\n",
       "      <td>2018</td>\n",
       "      <td>1613.066400</td>\n",
       "    </tr>\n",
       "    <tr>\n",
       "      <th>2</th>\n",
       "      <td>1004</td>\n",
       "      <td>2019</td>\n",
       "      <td>1705.842833</td>\n",
       "    </tr>\n",
       "    <tr>\n",
       "      <th>3</th>\n",
       "      <td>1004</td>\n",
       "      <td>2020</td>\n",
       "      <td>2031.947600</td>\n",
       "    </tr>\n",
       "    <tr>\n",
       "      <th>4</th>\n",
       "      <td>1004</td>\n",
       "      <td>2021</td>\n",
       "      <td>3900.146200</td>\n",
       "    </tr>\n",
       "  </tbody>\n",
       "</table>\n",
       "</div>"
      ],
      "text/plain": [
       "   gvkey  year         tdc1\n",
       "0   1004  2017  2991.587667\n",
       "1   1004  2018  1613.066400\n",
       "2   1004  2019  1705.842833\n",
       "3   1004  2020  2031.947600\n",
       "4   1004  2021  3900.146200"
      ]
     },
     "execution_count": 70,
     "metadata": {},
     "output_type": "execute_result"
    }
   ],
   "source": [
    "manager.head()"
   ]
  },
  {
   "cell_type": "code",
   "execution_count": 71,
   "id": "ed882892",
   "metadata": {},
   "outputs": [
    {
     "data": {
      "text/plain": [
       "Index(['gvkey', 'datadate', 'year', 'indfmt', 'consol', 'popsrc', 'datafmt',\n",
       "       'tic', 'curcd', 'sale', 'costat', 'mkvalt', 'ggroup', 'gind', 'gsector',\n",
       "       'gsubind'],\n",
       "      dtype='object')"
      ]
     },
     "execution_count": 71,
     "metadata": {},
     "output_type": "execute_result"
    }
   ],
   "source": [
    "fintwl.columns"
   ]
  },
  {
   "cell_type": "code",
   "execution_count": 83,
   "id": "219d1920",
   "metadata": {},
   "outputs": [],
   "source": [
    "merged = pd.merge(fintwl, manager, on=['gvkey', 'year'])"
   ]
  },
  {
   "cell_type": "code",
   "execution_count": 86,
   "id": "23275c7d",
   "metadata": {},
   "outputs": [
    {
     "data": {
      "text/plain": [
       "1590"
      ]
     },
     "execution_count": 86,
     "metadata": {},
     "output_type": "execute_result"
    }
   ],
   "source": [
    "merged['gvkey'].nunique()"
   ]
  },
  {
   "cell_type": "code",
   "execution_count": 73,
   "id": "c24aa8e4",
   "metadata": {},
   "outputs": [],
   "source": [
    "# Save gvkeys for credit rating queries\n",
    "np.savetxt('rating_gvkey.txt', merged['gvkey'].unique(), fmt='%s') "
   ]
  },
  {
   "cell_type": "markdown",
   "id": "10cb0a85",
   "metadata": {},
   "source": [
    "## Add credit rating"
   ]
  },
  {
   "cell_type": "code",
   "execution_count": 74,
   "id": "09511d30",
   "metadata": {},
   "outputs": [],
   "source": [
    "rating = pd.read_csv('rating_y17.csv')"
   ]
  },
  {
   "cell_type": "code",
   "execution_count": 75,
   "id": "0e636e7c",
   "metadata": {},
   "outputs": [
    {
     "data": {
      "text/plain": [
       "801"
      ]
     },
     "execution_count": 75,
     "metadata": {},
     "output_type": "execute_result"
    }
   ],
   "source": [
    "rating['gvkey'].nunique()"
   ]
  },
  {
   "cell_type": "code",
   "execution_count": 76,
   "id": "9fbb542a",
   "metadata": {},
   "outputs": [],
   "source": [
    "df_len = merged.shape[0]\n",
    "for k in range(df_len):\n",
    "    gvkey = merged.loc[k, 'gvkey']\n",
    "    r = rating[rating['gvkey'] == gvkey]['splticrm'].values\n",
    "    if r.shape[0] == 0:\n",
    "        merged.loc[k, 'credit'] = np.nan\n",
    "    else:\n",
    "        merged.loc[k, 'credit'] = rating[rating['gvkey'] == gvkey]['splticrm'].values[0]\n",
    "\n",
    "merged.to_csv('merged_y17_avgmanager.csv', index=False)"
   ]
  },
  {
   "cell_type": "code",
   "execution_count": 77,
   "id": "929bd79a",
   "metadata": {},
   "outputs": [],
   "source": [
    "merged = pd.read_csv('merged_y17_avgmanager.csv')\n",
    "# merged = merged[merged['year'].isin([2017, 2018, 2019, 2020, 2021])]\n",
    "junk_grade = ['CCC+', 'CCC', 'CCC-', 'CC+', 'CC', 'CC-', np.nan, 'nan']\n",
    "merged = merged[~merged['credit'].isin(junk_grade)]\n",
    "merged = merged.reset_index(drop=True)"
   ]
  },
  {
   "cell_type": "code",
   "execution_count": 78,
   "id": "ff47751d",
   "metadata": {},
   "outputs": [
    {
     "name": "stdout",
     "output_type": "stream",
     "text": [
      "<class 'pandas.core.frame.DataFrame'>\n",
      "RangeIndex: 3950 entries, 0 to 3949\n",
      "Data columns (total 18 columns):\n",
      " #   Column    Non-Null Count  Dtype  \n",
      "---  ------    --------------  -----  \n",
      " 0   gvkey     3950 non-null   int64  \n",
      " 1   datadate  3950 non-null   int64  \n",
      " 2   year      3950 non-null   int64  \n",
      " 3   indfmt    3950 non-null   object \n",
      " 4   consol    3950 non-null   object \n",
      " 5   popsrc    3950 non-null   object \n",
      " 6   datafmt   3950 non-null   object \n",
      " 7   tic       3950 non-null   object \n",
      " 8   curcd     3950 non-null   object \n",
      " 9   sale      3950 non-null   float64\n",
      " 10  costat    3950 non-null   object \n",
      " 11  mkvalt    3950 non-null   float64\n",
      " 12  ggroup    3950 non-null   float64\n",
      " 13  gind      3950 non-null   float64\n",
      " 14  gsector   3950 non-null   float64\n",
      " 15  gsubind   3950 non-null   float64\n",
      " 16  tdc1      3950 non-null   float64\n",
      " 17  credit    3950 non-null   object \n",
      "dtypes: float64(7), int64(3), object(8)\n",
      "memory usage: 555.6+ KB\n"
     ]
    }
   ],
   "source": [
    "merged.info()"
   ]
  },
  {
   "cell_type": "code",
   "execution_count": 79,
   "id": "c570d096",
   "metadata": {},
   "outputs": [
    {
     "data": {
      "text/plain": [
       "790"
      ]
     },
     "execution_count": 79,
     "metadata": {},
     "output_type": "execute_result"
    }
   ],
   "source": [
    "merged['gvkey'].nunique()"
   ]
  },
  {
   "cell_type": "code",
   "execution_count": 80,
   "id": "5a0cca03",
   "metadata": {},
   "outputs": [
    {
     "data": {
      "text/plain": [
       "array(['AIR', 'AAL', 'PNW', 'ABT', 'APD', 'ALK', 'HON', 'HES', 'PRI',\n",
       "       'AEP', 'AXP', 'AFL', 'AIG', 'AME', 'AMGN', 'ADI', 'NBR', 'APA',\n",
       "       'AAPL', 'AMAT', 'EPAC', 'ADM', 'ARW', 'ASH', 'ADSK', 'ADP', 'AVY',\n",
       "       'AVT', 'BALL', 'BPOP', 'BK', 'GOLD', 'BAX', 'BDX', 'VZ', 'BRK.B',\n",
       "       'BBY', 'BIO', 'BKH', 'VAL', 'BA', 'RFP', 'BMY', 'BF.B', 'CAL',\n",
       "       'BC', 'MTZ', 'UIS', 'CI', 'CNA', 'CSX', 'CBT', 'CACI', 'CPB',\n",
       "       'STZ', 'CAH', 'CSL', 'CRS', 'CAT', 'LUMN', 'JPM', 'CVX', 'EAT',\n",
       "       'CHD', 'CHDN', 'CTAS', 'CLX', 'COKE', 'KO', 'CDE', 'CL', 'AON',\n",
       "       'CMCSA', 'CMA', 'CBSH', 'C', 'CMC', 'CAR', 'DXC', 'CAG', 'ED',\n",
       "       'CMS', 'COO', 'TAP', 'GLW', 'CR', 'CCK', 'CFR', 'CMI', 'WEN',\n",
       "       'DAN', 'DHR', 'TGT', 'DE', 'DAL', 'DLX', 'DTE', 'DBD', 'DDS',\n",
       "       'DIS', 'DG', 'D', 'DOV', 'DD', 'OMC', 'DUK', 'FLS', 'DY', 'PKI',\n",
       "       'KODK', 'ECL', 'EMR', 'WFRD', 'ATO', 'EFX', 'EQT', 'NEU', 'XOM',\n",
       "       'FMC', 'NEE', 'FDX', 'FRT', 'M', 'FITB', 'RF', 'TRMK', 'MTB',\n",
       "       'USB', 'FHN', 'FLO', 'FLR', 'F', 'BEN', 'FUL', 'GATX', 'TGNA',\n",
       "       'GPS', 'AJRD', 'GD', 'GE', 'GIS', 'GM', 'GCO', 'GLT', 'GT', 'GWW',\n",
       "       'GEF', 'MGI', 'HAL', 'LHX', 'HSC', 'HAS', 'HE', 'WELL', 'HL',\n",
       "       'KHC', 'HP', 'HSY', 'HPQ', 'HXL', 'HLT', 'DINO', 'HD', 'HRL',\n",
       "       'CNP', 'HUBB', 'JBHT', 'HBAN', 'ITT', 'RYN', 'IDA', 'ITW', 'TT',\n",
       "       'RYI', 'GFF', 'INTC', 'IBM', 'IFF', 'IP', 'IPG', 'AES4', 'EME',\n",
       "       'JNJ', 'KLAC', 'KMI', 'KAMN', 'EVRG', 'K', 'KMT', 'KMB', 'KEX',\n",
       "       'KR', 'SR', 'LRCX', 'LEE', 'LEG', 'LEN', 'JEF', 'LLY', 'BBWI',\n",
       "       'LNC', 'LMT', 'L', 'RRC', 'LPX', 'LOW', 'MDC', 'MDU', 'MTW', 'MRO',\n",
       "       'HST', 'MMC', 'MAS', 'MAT', 'MKC', 'MCD', 'MCK', 'MDT', 'CVS',\n",
       "       'MRK', 'MU', 'ETR', 'MSEX', 'MMM', 'ALE', 'MOG.A', 'MSI', 'MUR',\n",
       "       'BAC', 'NCR', 'NFG', 'THC', 'NWL', 'NEM', 'NR', 'NKE', 'JWN',\n",
       "       'NSC', 'ES', 'NI', 'XEL', 'NTRS', 'NOC', 'NWN', 'NWE', 'WFC',\n",
       "       'NUE', 'OXY', 'OII', 'VTOL', 'FE', 'OGE', 'OLN', 'OKE', 'OSG',\n",
       "       'OMI', 'OC', 'OI', 'PNC', 'PPG', 'PCAR', 'PCG', 'SRE', 'MEC2',\n",
       "       'PH', 'AFG', 'PPL', 'PNR', 'PEP', 'PDCE', 'PFE', 'EXC', 'MO',\n",
       "       'COP', 'PVH', 'PBI', 'PCH', 'PG', 'PNM', 'PEG', '5495B', 'PHM',\n",
       "       'RJF', 'RPM', 'AN', 'RAD', 'ROK', 'ROST', 'R', 'SLB', 'SEE', 'SCI',\n",
       "       'SHW', 'SJM', 'SNA', 'KEY', 'SON', 'SJI', 'EIX', 'AWR', 'SO',\n",
       "       'LUV', 'SWX', 'T', 'SWN', 'SWK', 'STT', 'PSA', 'SYK', 'NAVI',\n",
       "       'SYY', 'ATI', 'TFX', 'TDS', 'TXN', 'TXT', 'TMO', 'SIX', 'TKR',\n",
       "       'GL', 'TTC', 'TRN', 'TSN', 'UAL', 'AEE', 'UNP', 'UNTC', 'UDR',\n",
       "       'UNH', 'UMBF', 'UPS', 'RTX', 'LNW', 'UTL', 'UVV', 'UHS', 'VFC',\n",
       "       'VMI', 'VSH', 'VNO', 'VMC', 'WMT', 'WBA', 'GHC', 'ELME', 'AVA',\n",
       "       'WDC', 'WY', 'WHR', 'WMB', 'WGO', 'WEC', 'LNT', 'WWW', 'FL', 'WOR',\n",
       "       'XRX', 'YELL', 'TJX', 'ZION', 'OSK', 'SF', 'ASB', 'NMIH', 'TFC',\n",
       "       'VLY', 'BIG', 'MS', 'NNN', 'MSFT', 'ORCL', 'COTY', 'HOG', 'TOL',\n",
       "       'POR', 'NVR', 'ADBE', 'EHC', 'CNO', 'MHO', 'FISV', 'KBH', 'UNM',\n",
       "       'CCEP', 'PPC', 'SNV', 'PEAK', 'PGR', 'RLI', 'CDNS', 'CCL', 'MBI',\n",
       "       'BDN', 'XRAY', 'PARA', 'ZTS', 'VGR', 'SCHW', 'CLH', 'CADE', 'FRC',\n",
       "       'APH', 'PXD', 'MAN', 'MGM', 'WM', 'DELL', 'SSP', 'MERC', 'FCX',\n",
       "       'MTH', 'ARCH', 'WRB', 'CINF', 'ORI', 'DVN', 'LH', 'CPE', 'STAR',\n",
       "       'VLO', 'IEX', 'BRO', 'SIG', 'GEN', 'ABBV', 'LEA', 'EOG', 'BCC',\n",
       "       'LSCC', 'TMHC', 'EA', 'OFG', 'SIGI', 'SIVB', 'WBS', 'IQV', 'CCS',\n",
       "       'MNK', 'BRX', 'AR', 'MUSA', 'SAIC', 'PTC', 'GIII', 'OUT', 'OGS',\n",
       "       'GCI', 'CTRE', 'PAHC', 'SMG', 'CTLT', 'KEYS', 'RYAM', 'SYF',\n",
       "       'CSCO', 'HOLX', 'LNTH', 'BSIG', 'AVNS', 'KMPR', 'UNVR', 'STOR',\n",
       "       'CZR', 'CFG', 'SYNH', 'GMS', 'LCI', 'VSTO', 'CC', 'TRMB', 'UNIT',\n",
       "       'ENR', 'BHE', 'CABO', 'CYH', 'AZO', 'X', 'FCFS', 'AES', 'HWC',\n",
       "       'KALU', 'MTG', 'ZBRA', 'PRA', 'BIIB', 'PYPL', 'HMN', 'WNC', 'WRLD',\n",
       "       'KIM', 'PRGO', 'QCOM', 'OFC', 'GILD', 'ROP', 'MHK', 'LIN', 'AGCO',\n",
       "       'BSX', 'KSS', 'BBBY', 'DHI', 'TWNK', 'SBUX', 'CENTA', 'OHI',\n",
       "       'ASGN', 'MTX', 'RDN', 'SM', 'GPOR', 'HPE', 'FTV', 'ADNT', 'VVV',\n",
       "       'AA', 'SITC', 'CHK', 'DFIN', 'HUM', 'INTU', 'MCHP', 'FOSL', 'SANM',\n",
       "       'ORLY', 'RCL', 'HWM', 'AVNT', 'JBL', 'RGA', 'TWI', 'HR', 'SKT',\n",
       "       'ALL', 'BCO', 'CPT', 'EQR', 'BWA', 'LW', 'MAR', 'BDC', 'BYD',\n",
       "       'COST', 'LXP', 'CBL', 'REG', 'ROCK', 'NYCB', 'SPG', 'EMN', 'MAA',\n",
       "       'MLM', 'ALB', 'BZH', 'IVZ', 'WRK', 'AVB', 'PLD', 'EXP', 'PENN',\n",
       "       'ESS', 'HIW', 'FR', 'GBX', 'AIV', 'GEO', 'VRE', 'DAR', 'RS', 'O',\n",
       "       'COF', 'RCII', 'ACIW', 'DLTR', 'ABC', 'DRI', 'DISH', 'HA', 'LSI',\n",
       "       'WAB', 'SVC', 'ACGL', 'MD', 'RE', 'RNR', 'THG', 'DO', 'DVA', 'EL',\n",
       "       'NTAP', 'HIG', 'CSGS', 'IRM', 'CENX', 'TRV', 'FCN', 'TUP', 'LAMR',\n",
       "       'SRCL', 'ANF', 'ENDPQ', 'TGI', 'NOV', 'STLD', 'VSAT', 'DGX', 'KRC',\n",
       "       'CIEN', 'SLGN', 'EEFT', 'AMZN', 'ARE', 'QRVO', 'RL', 'BXP', 'CXW',\n",
       "       'JLL', 'BFAM', 'SLG', 'YUM', 'CHH', 'EPR', 'GPI', 'SAH', 'AMG',\n",
       "       'INGR', 'URI', 'VRSN', 'AMCR', 'AMT', 'AMKR', 'VTR', 'WCN', 'RSG',\n",
       "       'CCI', 'EBAY', 'GS', 'NVDA', 'AXL', 'AUD', 'EWBC', 'APTV', 'MKSI',\n",
       "       'BKNG', 'CNX', 'UONEK', 'SBAC', 'JNPR', 'ZD', 'LII', 'DHC', 'BLK',\n",
       "       'EXPE', 'A', 'PKG', 'EW', 'EPC', 'MET', 'ON', 'FYBR', 'NRG', 'VC',\n",
       "       'CRL', 'ILMN', 'EQIX', 'MCO', 'TTMI', 'ITGR', 'TPR', 'GPN', 'MDLZ',\n",
       "       'PRU', 'ACN', 'WTW', 'AMN', 'ZBH', 'ABG', 'XPO', 'ELV', 'GME',\n",
       "       'WW', 'CNC', 'PFG', 'AAP', 'AYI', 'JBLU', 'NFLX', 'ACM', 'NPO',\n",
       "       'CME', 'NXST', 'WYNN', 'NDAQ', 'TCBI', 'STX', 'MOH', 'AXS', 'LKQ',\n",
       "       'AEL', 'CONN', 'TPX', 'AIZ', 'CMP', 'SRC', 'AGO', 'GNW', 'MA',\n",
       "       'GOOGL', 'WLK', 'ENS', 'DLR', 'LVS', 'CNSL', 'MOS', 'MPW', 'WEX',\n",
       "       'BLDR', 'KOP', 'ICE', 'CPS', 'THS', 'WBD', 'TROX', 'QSR', 'AMP',\n",
       "       'UAA', 'LDOS', 'LYV', 'FIS', 'SNCR', 'GOGO', 'POST', 'FANG', 'PSX',\n",
       "       'BLMN', 'PGTI', 'TNL', 'ALGT', 'WU', 'HBI', 'SBH', 'BR', 'CNK',\n",
       "       'TEL', 'JAZZ', 'DFS', 'G', 'MHLD', 'MSCI', 'ROIC', 'FOR', 'AWK',\n",
       "       'V', 'ENOV', 'PM', 'HI', 'BKI', 'ATVI', 'VRSK', 'GPRE', 'CLW',\n",
       "       'OPI', 'KAR', 'CHRD', 'CBOE', 'FLT', 'NXPI', 'FAF', 'TSLA', 'HPP',\n",
       "       'WD', 'TRGP', 'AAT', 'SBRA', 'HII', 'SXC', 'CHEF', 'MPC', 'AMCX',\n",
       "       'TSE', 'MTSI', 'MTDR', 'LPI', 'FBIN', 'XYL', 'ENVA', 'VAC', 'ACHC',\n",
       "       'KRG', 'ALLE'], dtype=object)"
      ]
     },
     "execution_count": 80,
     "metadata": {},
     "output_type": "execute_result"
    }
   ],
   "source": [
    "merged['tic'].unique()"
   ]
  },
  {
   "cell_type": "code",
   "execution_count": 82,
   "id": "3fff42a2",
   "metadata": {},
   "outputs": [
    {
     "data": {
      "text/html": [
       "<div>\n",
       "<style scoped>\n",
       "    .dataframe tbody tr th:only-of-type {\n",
       "        vertical-align: middle;\n",
       "    }\n",
       "\n",
       "    .dataframe tbody tr th {\n",
       "        vertical-align: top;\n",
       "    }\n",
       "\n",
       "    .dataframe thead th {\n",
       "        text-align: right;\n",
       "    }\n",
       "</style>\n",
       "<table border=\"1\" class=\"dataframe\">\n",
       "  <thead>\n",
       "    <tr style=\"text-align: right;\">\n",
       "      <th></th>\n",
       "      <th>sale</th>\n",
       "      <th>mkvalt</th>\n",
       "    </tr>\n",
       "  </thead>\n",
       "  <tbody>\n",
       "    <tr>\n",
       "      <th>sale</th>\n",
       "      <td>1.000000</td>\n",
       "      <td>0.660054</td>\n",
       "    </tr>\n",
       "    <tr>\n",
       "      <th>mkvalt</th>\n",
       "      <td>0.660054</td>\n",
       "      <td>1.000000</td>\n",
       "    </tr>\n",
       "  </tbody>\n",
       "</table>\n",
       "</div>"
      ],
      "text/plain": [
       "            sale    mkvalt\n",
       "sale    1.000000  0.660054\n",
       "mkvalt  0.660054  1.000000"
      ]
     },
     "execution_count": 82,
     "metadata": {},
     "output_type": "execute_result"
    }
   ],
   "source": [
    "merged[['sale', 'mkvalt']].corr(method='spearman')"
   ]
  },
  {
   "cell_type": "code",
   "execution_count": null,
   "id": "67ae63f8",
   "metadata": {},
   "outputs": [],
   "source": []
  }
 ],
 "metadata": {
  "kernelspec": {
   "display_name": "Python 3 (ipykernel)",
   "language": "python",
   "name": "python3"
  },
  "language_info": {
   "codemirror_mode": {
    "name": "ipython",
    "version": 3
   },
   "file_extension": ".py",
   "mimetype": "text/x-python",
   "name": "python",
   "nbconvert_exporter": "python",
   "pygments_lexer": "ipython3",
   "version": "3.9.12"
  }
 },
 "nbformat": 4,
 "nbformat_minor": 5
}
