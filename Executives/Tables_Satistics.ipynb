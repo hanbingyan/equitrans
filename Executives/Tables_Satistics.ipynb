{
 "cells": [
  {
   "cell_type": "code",
   "execution_count": 1,
   "id": "d4b47f0b",
   "metadata": {},
   "outputs": [],
   "source": [
    "import matplotlib.pyplot as plt\n",
    "import pandas as pd\n",
    "import numpy as np\n",
    "from sklearn.linear_model import LinearRegression, HuberRegressor\n",
    "import pickle\n",
    "import itertools\n",
    "import time\n",
    "import ot\n",
    "import os\n",
    "from scipy.stats import rankdata, spearmanr\n",
    "import seaborn as sns\n",
    "from datetime import datetime"
   ]
  },
  {
   "cell_type": "code",
   "execution_count": 2,
   "id": "af3ff737",
   "metadata": {},
   "outputs": [],
   "source": [
    "plt.style.use('seaborn-whitegrid')"
   ]
  },
  {
   "cell_type": "code",
   "execution_count": 3,
   "id": "142c7af4",
   "metadata": {},
   "outputs": [],
   "source": [
    "log_dir = './exec_logs'\n",
    "cali_dir = './exec_cali'"
   ]
  },
  {
   "cell_type": "code",
   "execution_count": 4,
   "id": "e50057aa",
   "metadata": {},
   "outputs": [],
   "source": [
    "with open('D:/GitHub/TITrans/old_data/gvkeysp500.txt', 'r') as fp:\n",
    "    sp500_gv = fp.readlines()\n",
    "#     print('Total Number of lines:', lines)"
   ]
  },
  {
   "cell_type": "code",
   "execution_count": 5,
   "id": "fdee3497",
   "metadata": {},
   "outputs": [],
   "source": [
    "sp_gv = [int(line.rstrip('\\n')) for line in sp500_gv]"
   ]
  },
  {
   "cell_type": "code",
   "execution_count": 6,
   "id": "b3a697d8",
   "metadata": {},
   "outputs": [],
   "source": [
    "merged = pd.read_csv('./exec_logs/classified_group_6.csv')"
   ]
  },
  {
   "cell_type": "code",
   "execution_count": 7,
   "id": "3afebba5",
   "metadata": {},
   "outputs": [],
   "source": [
    "orig_ceo = pd.read_csv('./ceo_y17.csv')"
   ]
  },
  {
   "cell_type": "code",
   "execution_count": 10,
   "id": "98d0b56f",
   "metadata": {},
   "outputs": [],
   "source": [
    "np.savetxt('790firms_gvkey.txt', merged['gvkey'].unique(), fmt='%s')  "
   ]
  },
  {
   "cell_type": "markdown",
   "id": "a36cd0a7",
   "metadata": {},
   "source": [
    "## CEO Tenure"
   ]
  },
  {
   "cell_type": "code",
   "execution_count": null,
   "id": "e2ca1e6a",
   "metadata": {},
   "outputs": [],
   "source": [
    "firm_kept = merged['gvkey'].unique()"
   ]
  },
  {
   "cell_type": "code",
   "execution_count": null,
   "id": "01030090",
   "metadata": {},
   "outputs": [],
   "source": [
    "ceo_sub = orig_ceo[orig_ceo['GVKEY'].isin(firm_kept)]\n",
    "ceo_sub = ceo_sub[~ceo_sub['BECAMECEO'].isnull()]\n",
    "ceo_sub = ceo_sub.reset_index(drop=True)"
   ]
  },
  {
   "cell_type": "code",
   "execution_count": null,
   "id": "4b71ff73",
   "metadata": {},
   "outputs": [],
   "source": [
    "ceo_sub"
   ]
  },
  {
   "cell_type": "code",
   "execution_count": null,
   "id": "6dbf64dd",
   "metadata": {},
   "outputs": [],
   "source": [
    "n_obs = ceo_sub.shape[0]"
   ]
  },
  {
   "cell_type": "code",
   "execution_count": null,
   "id": "ab093b6f",
   "metadata": {},
   "outputs": [],
   "source": [
    "for idx in range(n_obs):\n",
    "    ceo_sub.loc[idx, 'Tenure'] = ceo_sub.loc[idx, 'YEAR'] - int(ceo_sub.loc[idx, 'BECAMECEO']/10000)\n",
    "    gv = ceo_sub.loc[idx, 'GVKEY']\n",
    "    gsec_ = merged[merged['gvkey'] == gv]['gsector'].unique()[0]\n",
    "    ceo_sub.loc[idx, 'gsector'] = gsec_"
   ]
  },
  {
   "cell_type": "code",
   "execution_count": null,
   "id": "b554dd60",
   "metadata": {},
   "outputs": [],
   "source": [
    "ceo_sub['Tenure'].median(), ceo_sub['Tenure'].mean()"
   ]
  },
  {
   "cell_type": "code",
   "execution_count": null,
   "id": "2faf1539",
   "metadata": {},
   "outputs": [],
   "source": [
    "med_tenure = ceo_sub.groupby(['gsector'])['Tenure'].mean()"
   ]
  },
  {
   "cell_type": "markdown",
   "id": "5ad76788",
   "metadata": {},
   "source": [
    "### Number of firms"
   ]
  },
  {
   "cell_type": "code",
   "execution_count": null,
   "id": "de52f724",
   "metadata": {},
   "outputs": [],
   "source": [
    "merged.groupby(['gsector'])['gvkey'].nunique()"
   ]
  },
  {
   "cell_type": "code",
   "execution_count": null,
   "id": "1de057cd",
   "metadata": {},
   "outputs": [],
   "source": [
    "gv_merged = merged['gvkey'].unique()\n",
    "len(gv_merged)"
   ]
  },
  {
   "cell_type": "code",
   "execution_count": null,
   "id": "0df134f8",
   "metadata": {},
   "outputs": [],
   "source": [
    "len(set(sp_gv) - set(gv_merged))"
   ]
  },
  {
   "cell_type": "code",
   "execution_count": null,
   "id": "b32c9d4e",
   "metadata": {},
   "outputs": [],
   "source": [
    "len(sp_gv) - 103"
   ]
  },
  {
   "cell_type": "markdown",
   "id": "9c6554db",
   "metadata": {},
   "source": [
    "### Statistics "
   ]
  },
  {
   "cell_type": "code",
   "execution_count": null,
   "id": "ca83d3c1",
   "metadata": {},
   "outputs": [],
   "source": [
    "merged.groupby(['gsector'])['mkvalt'].mean()"
   ]
  },
  {
   "cell_type": "code",
   "execution_count": null,
   "id": "eec70430",
   "metadata": {},
   "outputs": [],
   "source": [
    "finstat = pd.read_csv('./finstat_y17.csv')"
   ]
  },
  {
   "cell_type": "code",
   "execution_count": null,
   "id": "c46c0de5",
   "metadata": {},
   "outputs": [],
   "source": [
    "finstat[finstat['fyear'] == 2021]['mkvalt'].sum()"
   ]
  },
  {
   "cell_type": "code",
   "execution_count": null,
   "id": "ada76f5a",
   "metadata": {},
   "outputs": [],
   "source": [
    "merged[merged['year'] == 2021]['mkvalt'].sum()"
   ]
  },
  {
   "cell_type": "code",
   "execution_count": null,
   "id": "45ade227",
   "metadata": {},
   "outputs": [],
   "source": [
    "np.round(merged.groupby(['gsector'])['mkvalt'].mean().values, 2)"
   ]
  },
  {
   "cell_type": "code",
   "execution_count": null,
   "id": "d4506a18",
   "metadata": {},
   "outputs": [],
   "source": [
    "np.round(merged.groupby(['gsector'])['sale'].mean().values, 2)"
   ]
  },
  {
   "cell_type": "code",
   "execution_count": null,
   "id": "7ad13bce",
   "metadata": {},
   "outputs": [],
   "source": [
    "np.round(merged.groupby(['gsector'])['tdc1'].mean().values, 2)"
   ]
  },
  {
   "cell_type": "code",
   "execution_count": null,
   "id": "46d54cfb",
   "metadata": {},
   "outputs": [],
   "source": [
    "merged[['mkvalt', 'sale', 'tdc1']].corr(method='spearman')"
   ]
  },
  {
   "cell_type": "markdown",
   "id": "64d7019c",
   "metadata": {},
   "source": [
    "### Testing Roberts law across sectors"
   ]
  },
  {
   "cell_type": "code",
   "execution_count": 9,
   "id": "92551807",
   "metadata": {},
   "outputs": [
    {
     "data": {
      "text/plain": [
       "array([10., 15., 20., 25., 30., 35., 40., 45., 50., 55., 60.])"
      ]
     },
     "execution_count": 9,
     "metadata": {},
     "output_type": "execute_result"
    }
   ],
   "source": [
    "gs = merged['gsector'].unique()\n",
    "gs = np.sort(gs)\n",
    "gs"
   ]
  },
  {
   "cell_type": "code",
   "execution_count": null,
   "id": "163a2ee2",
   "metadata": {},
   "outputs": [],
   "source": [
    "rho_arr = np.zeros(11)\n",
    "spearman_arr = np.zeros(11)\n",
    "kendall_arr = np.zeros(11)\n",
    "for k in range(11):\n",
    "    rho_arr[k] = merged[merged['gsector'] == gs[k]][['tdc1', 'sale']].corr(method='pearson').iloc[0, 1]\n",
    "    spearman_arr[k] = merged[merged['gsector'] == gs[k]][['tdc1', 'sale']].corr(method='spearman').iloc[0, 1]\n",
    "    kendall_arr[k] = merged[merged['gsector'] == gs[k]][['tdc1', 'sale']].corr(method='kendall').iloc[0, 1]\n",
    "    print(rho_arr[k], gs[k])"
   ]
  },
  {
   "cell_type": "code",
   "execution_count": null,
   "id": "d66a4cba",
   "metadata": {},
   "outputs": [],
   "source": [
    "spearmanr(spearman_arr, med_tenure.values)"
   ]
  },
  {
   "cell_type": "code",
   "execution_count": null,
   "id": "70af6ffe",
   "metadata": {},
   "outputs": [],
   "source": [
    "spearman_arr"
   ]
  },
  {
   "cell_type": "code",
   "execution_count": null,
   "id": "bd648f86",
   "metadata": {},
   "outputs": [],
   "source": [
    "med_tenure"
   ]
  },
  {
   "cell_type": "code",
   "execution_count": null,
   "id": "c87d64b7",
   "metadata": {},
   "outputs": [],
   "source": [
    "np.round(spearman_arr, 3)"
   ]
  },
  {
   "cell_type": "code",
   "execution_count": null,
   "id": "28371112",
   "metadata": {},
   "outputs": [],
   "source": [
    "np.round(kendall_arr, 3)"
   ]
  },
  {
   "cell_type": "code",
   "execution_count": null,
   "id": "30a4b6d8",
   "metadata": {},
   "outputs": [],
   "source": [
    "with open('{}/even_spearman_list.pickle'.format(log_dir), 'rb') as fp:\n",
    "    s_corr = pickle.load(fp)\n",
    "\n",
    "with open('{}/even_kendall_list.pickle'.format(log_dir), 'rb') as fp:\n",
    "    k_corr = pickle.load(fp)"
   ]
  },
  {
   "cell_type": "code",
   "execution_count": null,
   "id": "0f34b9ac",
   "metadata": {},
   "outputs": [],
   "source": [
    "plt.figure(figsize=(10, 6))\n",
    "plt.plot(np.arange(2, 20, 1), s_corr, 'o', label='Spearman')\n",
    "plt.plot(np.arange(2, 20, 1), k_corr, '*', label='Kendall')\n",
    "plt.xticks(np.arange(2, 20, 1))\n",
    "plt.tick_params(axis='both', which='major', labelsize=15)\n",
    "plt.xlabel('Number of clusters', fontsize=15)\n",
    "plt.ylabel('Correlation', fontsize=15)\n",
    "plt.legend(loc='best', fontsize=15)\n",
    "plt.savefig('even_split.pdf', format='pdf', dpi=1000, bbox_inches='tight', pad_inches=0.1)"
   ]
  },
  {
   "cell_type": "code",
   "execution_count": null,
   "id": "e17ca610",
   "metadata": {},
   "outputs": [],
   "source": [
    "with open('{}/uneven_spearman_list.pickle'.format(log_dir), 'rb') as fp:\n",
    "    un_s_corr = pickle.load(fp)\n",
    "\n",
    "with open('{}/uneven_kendall_list.pickle'.format(log_dir), 'rb') as fp:\n",
    "    un_k_corr = pickle.load(fp)"
   ]
  },
  {
   "cell_type": "code",
   "execution_count": null,
   "id": "7c08cf6e",
   "metadata": {},
   "outputs": [],
   "source": [
    "plt.figure(figsize=(10, 6))\n",
    "plt.plot(np.arange(2, 20, 1), un_s_corr, 'o', label='Spearman')\n",
    "plt.plot(np.arange(2, 20, 1), un_k_corr, '*', label='Kendall')\n",
    "plt.xticks(np.arange(2, 20, 1))\n",
    "plt.tick_params(axis='both', which='major', labelsize=14)\n",
    "plt.xlabel('Number of clusters', fontsize=15)\n",
    "plt.ylabel('Correlation', fontsize=15)\n",
    "plt.legend(loc='best', fontsize=15)\n",
    "plt.savefig('uneven_split.pdf', format='pdf', dpi=1000, bbox_inches='tight', pad_inches=0.1)"
   ]
  },
  {
   "cell_type": "markdown",
   "id": "98515bd8",
   "metadata": {},
   "source": [
    "## Transition matrix"
   ]
  },
  {
   "cell_type": "code",
   "execution_count": 36,
   "id": "8007468c",
   "metadata": {},
   "outputs": [
    {
     "name": "stdout",
     "output_type": "stream",
     "text": [
      "15.0\n"
     ]
    },
    {
     "data": {
      "image/png": "[encoded data removed]",
      "text/plain": [
       "<Figure size 720x576 with 2 Axes>"
      ]
     },
     "metadata": {},
     "output_type": "display_data"
    }
   ],
   "source": [
    "gs_idx = 1\n",
    "w_file_name = \"wage_trans_gs_{}.pickle\".format(int(gs[gs_idx]))\n",
    "print(gs[gs_idx])\n",
    "with open('{}/{}'.format(log_dir, w_file_name), 'rb') as fp:\n",
    "    wage_trans = pickle.load(fp)\n",
    "for row in range(6):\n",
    "    wage_trans[row, :] = wage_trans[row, :]/wage_trans[row, :].sum()\n",
    "x_shape = wage_trans.shape[0]\n",
    "        \n",
    "cmap = sns.diverging_palette(230, 20, as_cmap=True)\n",
    "plt.figure(figsize=(10, 8))\n",
    "ax = sns.heatmap(wage_trans, xticklabels=np.arange(1, x_shape+1),\n",
    "                 yticklabels=np.arange(1, x_shape+1),\n",
    "                 annot=True, fmt=\".3f\", annot_kws={\"fontsize\": 12}, cmap=cmap)"
   ]
  },
  {
   "cell_type": "code",
   "execution_count": 29,
   "id": "5b2fba35",
   "metadata": {},
   "outputs": [
    {
     "data": {
      "image/png": "[encoded data removed]",
      "text/plain": [
       "<Figure size 720x576 with 2 Axes>"
      ]
     },
     "metadata": {},
     "output_type": "display_data"
    }
   ],
   "source": [
    "x_shape = 6\n",
    "wage_agg = np.zeros((6, 6))\n",
    "for gs_idx in range(11):\n",
    "    w_file_name = \"wage_trans_gs_{}.pickle\".format(int(gs[gs_idx]))\n",
    "#     print(gs[gs_idx])\n",
    "    with open('{}/{}'.format(log_dir, w_file_name), 'rb') as fp:\n",
    "        wage_trans = pickle.load(fp)\n",
    "    for row in range(6):\n",
    "        wage_trans[row, :] = wage_trans[row, :]/wage_trans[row, :].sum()\n",
    "    wage_agg += wage_trans \n",
    "\n",
    "wage_agg = wage_agg/11        \n",
    "cmap = sns.diverging_palette(230, 20, as_cmap=True)\n",
    "plt.figure(figsize=(10, 8))\n",
    "ax = sns.heatmap(wage_agg, xticklabels=np.arange(1, x_shape+1),\n",
    "                 yticklabels=np.arange(1, x_shape+1),\n",
    "                 annot=True, fmt=\".3f\", annot_kws={\"fontsize\": 15}, cmap=cmap)\n",
    "plt.tick_params(axis='both', which='major', labelsize=15)\n",
    "plt.xlabel('Next group', fontsize=15)\n",
    "plt.ylabel('Previous group', fontsize=15)\n",
    "cbar = ax.collections[0].colorbar\n",
    "cbar.ax.tick_params(labelsize=15)\n",
    "# plt.legend(loc='best', fontsize=15)\n",
    "# plt.savefig('sale_trans.pdf', format='pdf', dpi=1000, bbox_inches='tight', pad_inches=0.1)"
   ]
  },
  {
   "cell_type": "code",
   "execution_count": null,
   "id": "f87fbecf",
   "metadata": {},
   "outputs": [],
   "source": []
  }
 ],
 "metadata": {
  "kernelspec": {
   "display_name": "Python 3 (ipykernel)",
   "language": "python",
   "name": "python3"
  },
  "language_info": {
   "codemirror_mode": {
    "name": "ipython",
    "version": 3
   },
   "file_extension": ".py",
   "mimetype": "text/x-python",
   "name": "python",
   "nbconvert_exporter": "python",
   "pygments_lexer": "ipython3",
   "version": "3.9.12"
  }
 },
 "nbformat": 4,
 "nbformat_minor": 5
}
